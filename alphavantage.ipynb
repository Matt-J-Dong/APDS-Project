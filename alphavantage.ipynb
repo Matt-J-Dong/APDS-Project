{
 "cells": [
  {
   "cell_type": "markdown",
   "id": "bcf00561eedda62a",
   "metadata": {},
   "source": [
    "Documentation Link: https://www.alphavantage.co/documentation/"
   ]
  },
  {
   "cell_type": "code",
   "execution_count": 1,
   "id": "initial_id",
   "metadata": {
    "ExecuteTime": {
     "end_time": "2025-02-21T02:39:50.112106Z",
     "start_time": "2025-02-21T02:39:49.405571Z"
    },
    "tags": []
   },
   "outputs": [
    {
     "ename": "NameError",
     "evalue": "name 'get_intraday_data' is not defined",
     "output_type": "error",
     "traceback": [
      "\u001b[0;31m---------------------------------------------------------------------------\u001b[0m",
      "\u001b[0;31mNameError\u001b[0m                                 Traceback (most recent call last)",
      "Cell \u001b[0;32mIn[1], line 24\u001b[0m\n\u001b[1;32m     21\u001b[0m     \u001b[38;5;28;01mreturn\u001b[39;00m data\n\u001b[1;32m     23\u001b[0m symbol \u001b[38;5;241m=\u001b[39m \u001b[38;5;124m'\u001b[39m\u001b[38;5;124mAAPL\u001b[39m\u001b[38;5;124m'\u001b[39m\n\u001b[0;32m---> 24\u001b[0m daily_data \u001b[38;5;241m=\u001b[39m get_intraday_data(symbol)\n",
      "\u001b[0;31mNameError\u001b[0m: name 'get_intraday_data' is not defined"
     ]
    }
   ],
   "source": [
    "import requests\n",
    "\n",
    "API_KEY = '9MBUP7GPCWD3VV9S'\n",
    "BASE_URL = 'https://www.alphavantage.co/query'\n",
    "\n",
    "def get_daily_data(symbol, interval='1day', outputsize='full'):\n",
    "    \"\"\"\n",
    "    Fetch intraday data for a given symbol from Alpha Vantage.\n",
    "    interval options include '1min', '5min', '15min', '30min', '60min'.\n",
    "    \"\"\"\n",
    "    params = {\n",
    "        'function': 'TIME_SERIES_DAILY',\n",
    "        'symbol': symbol,\n",
    "        'outputsize': outputsize,\n",
    "        'interval': interval,\n",
    "        'apikey': API_KEY,\n",
    "        'datatype': 'json'\n",
    "    }\n",
    "    response = requests.get(BASE_URL, params=params)\n",
    "    data = response.json()\n",
    "    return data\n",
    "\n",
    "symbol = 'AAPL'\n",
    "daily_data = get_daily_data(symbol)"
   ]
  },
  {
   "cell_type": "code",
   "execution_count": null,
   "id": "ae47fde10a1b686",
   "metadata": {},
   "outputs": [],
   "source": [
    "import pandas as pd\n",
    "\n",
    "# Extract the 'Time Series (1 day --- daily)' data\n",
    "time_series = daily_data['Time Series (Daily)']\n",
    "\n",
    "df = pd.DataFrame.from_dict(time_series, orient='index')\n",
    "\n",
    "df.rename(columns={\n",
    "    '1. open': 'open',\n",
    "    '2. high': 'high',\n",
    "    '3. low': 'low',\n",
    "    '4. close': 'close',\n",
    "    '5. volume': 'volume'\n",
    "}, inplace=True)\n",
    "\n",
    "df = df.astype({\n",
    "    'open': 'float',\n",
    "    'high': 'float',\n",
    "    'low': 'float',\n",
    "    'close': 'float',\n",
    "    'volume': 'int'\n",
    "})\n",
    "\n",
    "df.index = pd.to_datetime(df.index)\n",
    "\n",
    "# sort the DataFrame by date in ascending order\n",
    "df.sort_index(inplace=True)\n",
    "df"
   ]
  },
  {
   "cell_type": "code",
   "execution_count": null,
   "id": "e2da1259-fccf-4472-b3d7-8634d35152e8",
   "metadata": {},
   "outputs": [],
   "source": []
  }
 ],
 "metadata": {
  "kernelspec": {
   "display_name": "Python 3 (ipykernel)",
   "language": "python",
   "name": "python3"
  },
  "language_info": {
   "codemirror_mode": {
    "name": "ipython",
    "version": 3
   },
   "file_extension": ".py",
   "mimetype": "text/x-python",
   "name": "python",
   "nbconvert_exporter": "python",
   "pygments_lexer": "ipython3",
   "version": "3.11.10"
  }
 },
 "nbformat": 4,
 "nbformat_minor": 5
}
