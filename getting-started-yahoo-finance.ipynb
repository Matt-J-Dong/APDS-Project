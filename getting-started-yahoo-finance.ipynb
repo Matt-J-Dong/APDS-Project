{
 "cells": [
  {
   "cell_type": "markdown",
   "id": "8c09e7e6-641d-4e09-b3f3-30547de9cb23",
   "metadata": {},
   "source": [
    "# The `yfinance API` (***Yahoo!*** Finance)"
   ]
  },
  {
   "cell_type": "code",
   "execution_count": 1,
   "id": "53e48a31-b558-4fee-a66c-40a20c442447",
   "metadata": {},
   "outputs": [],
   "source": [
    "import yfinance as yf\n",
    "import pandas as pd\n",
    "import numpy as np\n",
    "import matplotlib.pyplot as plt\n",
    "from pprint import pprint \n",
    "from datetime import date"
   ]
  },
  {
   "cell_type": "code",
   "execution_count": 2,
   "id": "37a3c3f0-dec1-4b68-a5bc-cb670cb5dbf0",
   "metadata": {},
   "outputs": [
    {
     "name": "stdout",
     "output_type": "stream",
     "text": [
      "Let's look into Apple Inc: \"AAPL\" (ticker symbol)\n"
     ]
    }
   ],
   "source": [
    "# Create a Ticker object using ticker symbol: Apple Inc \n",
    "print(\"Let's explore Apple Inc: \\\"AAPL\\\" (ticker symbol)\")\n",
    "ticker = yf.Ticker(\"AAPL\")"
   ]
  },
  {
   "cell_type": "markdown",
   "id": "e045e3f8-7785-4815-8f9b-d776c6f2b9df",
   "metadata": {},
   "source": [
    "# 1) Historical Market data\n"
   ]
  },
  {
   "cell_type": "code",
   "execution_count": 3,
   "id": "b79b3095-e4de-4d6d-bb13-ea6613aea8e6",
   "metadata": {
    "tags": []
   },
   "outputs": [
    {
     "name": "stdout",
     "output_type": "stream",
     "text": [
      "Historical Data Columns:\n",
      "['Open', 'High', 'Low', 'Close', 'Volume', 'Dividends', 'Stock Splits']\n"
     ]
    }
   ],
   "source": [
    "data_period = \"1y\"\n",
    "\n",
    "# Fetch historical market data\n",
    "historical_data_df = ticker.history(period=data_period)  # data for the last year\n",
    "print(\"Historical Data Columns:\")\n",
    "pprint(list(historical_data_df.columns))"
   ]
  },
  {
   "cell_type": "code",
   "execution_count": 4,
   "id": "97cbdb15-0f50-4988-9f14-b2396ab56018",
   "metadata": {
    "tags": []
   },
   "outputs": [
    {
     "name": "stdout",
     "output_type": "stream",
     "text": [
      "Historical data date indexes (indexes associated to each row)\n",
      "DatetimeIndex(['2024-02-12 00:00:00-05:00', '2024-02-13 00:00:00-05:00',\n",
      "               '2024-02-14 00:00:00-05:00', '2024-02-15 00:00:00-05:00',\n",
      "               '2024-02-16 00:00:00-05:00', '2024-02-20 00:00:00-05:00',\n",
      "               '2024-02-21 00:00:00-05:00', '2024-02-22 00:00:00-05:00',\n",
      "               '2024-02-23 00:00:00-05:00', '2024-02-26 00:00:00-05:00',\n",
      "               ...\n",
      "               '2025-01-28 00:00:00-05:00', '2025-01-29 00:00:00-05:00',\n",
      "               '2025-01-30 00:00:00-05:00', '2025-01-31 00:00:00-05:00',\n",
      "               '2025-02-03 00:00:00-05:00', '2025-02-04 00:00:00-05:00',\n",
      "               '2025-02-05 00:00:00-05:00', '2025-02-06 00:00:00-05:00',\n",
      "               '2025-02-07 00:00:00-05:00', '2025-02-10 00:00:00-05:00'],\n",
      "              dtype='datetime64[ns, America/New_York]', name='Date', length=250, freq=None)\n"
     ]
    }
   ],
   "source": [
    "# Dates\n",
    "print(\"Historical data date indexes (indexes associated to each row)\")\n",
    "print(historical_data_df.index)"
   ]
  },
  {
   "cell_type": "code",
   "execution_count": 5,
   "id": "e732a1ef-4209-4edd-9816-15a4de7b5401",
   "metadata": {},
   "outputs": [
    {
     "name": "stdout",
     "output_type": "stream",
     "text": [
      "Historical data dataframe\n"
     ]
    },
    {
     "data": {
      "text/html": [
       "<div>\n",
       "<style scoped>\n",
       "    .dataframe tbody tr th:only-of-type {\n",
       "        vertical-align: middle;\n",
       "    }\n",
       "\n",
       "    .dataframe tbody tr th {\n",
       "        vertical-align: top;\n",
       "    }\n",
       "\n",
       "    .dataframe thead th {\n",
       "        text-align: right;\n",
       "    }\n",
       "</style>\n",
       "<table border=\"1\" class=\"dataframe\">\n",
       "  <thead>\n",
       "    <tr style=\"text-align: right;\">\n",
       "      <th></th>\n",
       "      <th>Open</th>\n",
       "      <th>High</th>\n",
       "      <th>Low</th>\n",
       "      <th>Close</th>\n",
       "      <th>Volume</th>\n",
       "      <th>Dividends</th>\n",
       "      <th>Stock Splits</th>\n",
       "    </tr>\n",
       "    <tr>\n",
       "      <th>Date</th>\n",
       "      <th></th>\n",
       "      <th></th>\n",
       "      <th></th>\n",
       "      <th></th>\n",
       "      <th></th>\n",
       "      <th></th>\n",
       "      <th></th>\n",
       "    </tr>\n",
       "  </thead>\n",
       "  <tbody>\n",
       "    <tr>\n",
       "      <th>2024-02-12 00:00:00-05:00</th>\n",
       "      <td>187.740676</td>\n",
       "      <td>187.989774</td>\n",
       "      <td>186.116548</td>\n",
       "      <td>186.475250</td>\n",
       "      <td>41781900</td>\n",
       "      <td>0.0</td>\n",
       "      <td>0.0</td>\n",
       "    </tr>\n",
       "    <tr>\n",
       "      <th>2024-02-13 00:00:00-05:00</th>\n",
       "      <td>185.100243</td>\n",
       "      <td>185.538659</td>\n",
       "      <td>182.848381</td>\n",
       "      <td>184.372864</td>\n",
       "      <td>56529500</td>\n",
       "      <td>0.0</td>\n",
       "      <td>0.0</td>\n",
       "    </tr>\n",
       "    <tr>\n",
       "      <th>2024-02-14 00:00:00-05:00</th>\n",
       "      <td>184.651864</td>\n",
       "      <td>184.861098</td>\n",
       "      <td>181.782242</td>\n",
       "      <td>183.486069</td>\n",
       "      <td>54630500</td>\n",
       "      <td>0.0</td>\n",
       "      <td>0.0</td>\n",
       "    </tr>\n",
       "    <tr>\n",
       "      <th>2024-02-15 00:00:00-05:00</th>\n",
       "      <td>182.888248</td>\n",
       "      <td>183.824862</td>\n",
       "      <td>180.696183</td>\n",
       "      <td>183.197128</td>\n",
       "      <td>65434500</td>\n",
       "      <td>0.0</td>\n",
       "      <td>0.0</td>\n",
       "    </tr>\n",
       "    <tr>\n",
       "      <th>2024-02-16 00:00:00-05:00</th>\n",
       "      <td>182.758709</td>\n",
       "      <td>184.183561</td>\n",
       "      <td>181.015018</td>\n",
       "      <td>181.652710</td>\n",
       "      <td>49701400</td>\n",
       "      <td>0.0</td>\n",
       "      <td>0.0</td>\n",
       "    </tr>\n",
       "  </tbody>\n",
       "</table>\n",
       "</div>"
      ],
      "text/plain": [
       "                                 Open        High         Low       Close  \\\n",
       "Date                                                                        \n",
       "2024-02-12 00:00:00-05:00  187.740676  187.989774  186.116548  186.475250   \n",
       "2024-02-13 00:00:00-05:00  185.100243  185.538659  182.848381  184.372864   \n",
       "2024-02-14 00:00:00-05:00  184.651864  184.861098  181.782242  183.486069   \n",
       "2024-02-15 00:00:00-05:00  182.888248  183.824862  180.696183  183.197128   \n",
       "2024-02-16 00:00:00-05:00  182.758709  184.183561  181.015018  181.652710   \n",
       "\n",
       "                             Volume  Dividends  Stock Splits  \n",
       "Date                                                          \n",
       "2024-02-12 00:00:00-05:00  41781900        0.0           0.0  \n",
       "2024-02-13 00:00:00-05:00  56529500        0.0           0.0  \n",
       "2024-02-14 00:00:00-05:00  54630500        0.0           0.0  \n",
       "2024-02-15 00:00:00-05:00  65434500        0.0           0.0  \n",
       "2024-02-16 00:00:00-05:00  49701400        0.0           0.0  "
      ]
     },
     "metadata": {},
     "output_type": "display_data"
    }
   ],
   "source": [
    "print(\"Historical data dataframe\")\n",
    "display(historical_data_df.head())"
   ]
  },
  {
   "cell_type": "code",
   "execution_count": 6,
   "id": "b9ecd630-7c07-44f4-89b4-aaf6e29b4de7",
   "metadata": {},
   "outputs": [
    {
     "name": "stdout",
     "output_type": "stream",
     "text": [
      "Historical data line plots\n"
     ]
    },
    {
     "data": {
      "image/png": "[encoded data removed]",
      "text/plain": [
       "<Figure size 640x480 with 7 Axes>"
      ]
     },
     "metadata": {},
     "output_type": "display_data"
    }
   ],
   "source": [
    "print(\"Historical data line plots\")\n",
    "ax1 = historical_data_df.plot.line(subplots=True)\n",
    "plt.show()"
   ]
  },
  {
   "cell_type": "markdown",
   "id": "53a59157-c0c6-4660-9f57-4be966c50a6e",
   "metadata": {},
   "source": [
    "### 1a) Getting \"Open\" Prices \n",
    "\n",
    "- similarly, this technique can be applied to \"High\", \"Low\", \"Close\", \"Volume\", \"Dividends\", \"Stock Splits\"."
   ]
  },
  {
   "cell_type": "code",
   "execution_count": 7,
   "id": "0c37e7f1-6c6d-41b6-aee7-d0bb9c65ee65",
   "metadata": {
    "tags": []
   },
   "outputs": [
    {
     "name": "stdout",
     "output_type": "stream",
     "text": [
      "Historical data: Querying \"Open\" princes\n"
     ]
    },
    {
     "data": {
      "text/plain": [
       "Date\n",
       "2024-02-12 00:00:00-05:00    187.740676\n",
       "2024-02-13 00:00:00-05:00    185.100243\n",
       "2024-02-14 00:00:00-05:00    184.651864\n",
       "2024-02-15 00:00:00-05:00    182.888248\n",
       "2024-02-16 00:00:00-05:00    182.758709\n",
       "                                ...    \n",
       "2025-02-04 00:00:00-05:00    227.250000\n",
       "2025-02-05 00:00:00-05:00    228.529999\n",
       "2025-02-06 00:00:00-05:00    231.289993\n",
       "2025-02-07 00:00:00-05:00    232.600006\n",
       "2025-02-10 00:00:00-05:00    229.570007\n",
       "Name: Open, Length: 250, dtype: float64"
      ]
     },
     "execution_count": 7,
     "metadata": {},
     "output_type": "execute_result"
    }
   ],
   "source": [
    "print(\"Historical data: Querying \\\"Open\\\" princes\")\n",
    "historical_data_df[\"Open\"]"
   ]
  },
  {
   "cell_type": "markdown",
   "id": "63af3aef-abc2-4f88-a339-cb63467e3d23",
   "metadata": {},
   "source": [
    "### 1b) Getting historical data at a specified date using indexing  "
   ]
  },
  {
   "cell_type": "code",
   "execution_count": 8,
   "id": "4e78b394-1097-4d0f-bda8-0d2559e620f5",
   "metadata": {
    "tags": []
   },
   "outputs": [
    {
     "name": "stdout",
     "output_type": "stream",
     "text": [
      "Indexing into historical data to get all historical features:\n"
     ]
    },
    {
     "data": {
      "text/plain": [
       "Open            2.295700e+02\n",
       "High            2.305850e+02\n",
       "Low             2.272000e+02\n",
       "Close           2.276500e+02\n",
       "Volume          3.162892e+07\n",
       "Dividends       0.000000e+00\n",
       "Stock Splits    0.000000e+00\n",
       "Name: 2025-02-10 00:00:00-05:00, dtype: float64"
      ]
     },
     "execution_count": 8,
     "metadata": {},
     "output_type": "execute_result"
    }
   ],
   "source": [
    "print(\"Indexing into historical data to get all historical features:\")\n",
    "historical_data_df.loc[\"2025-02-10\"]"
   ]
  },
  {
   "cell_type": "code",
   "execution_count": 9,
   "id": "05f6a058-f33c-45b9-8e7a-4c91176cf010",
   "metadata": {},
   "outputs": [
    {
     "name": "stdout",
     "output_type": "stream",
     "text": [
      "Today's (2025-02-10) data\n"
     ]
    },
    {
     "data": {
      "text/plain": [
       "Open            2.295700e+02\n",
       "High            2.305850e+02\n",
       "Low             2.272000e+02\n",
       "Close           2.276500e+02\n",
       "Volume          3.162892e+07\n",
       "Dividends       0.000000e+00\n",
       "Stock Splits    0.000000e+00\n",
       "Name: 2025-02-10 00:00:00-05:00, dtype: float64"
      ]
     },
     "execution_count": 9,
     "metadata": {},
     "output_type": "execute_result"
    }
   ],
   "source": [
    "print(f\"Today's ({date.today()}) data\")\n",
    "historical_data_df.loc[str(date.today())]"
   ]
  },
  {
   "cell_type": "markdown",
   "id": "2b6dca02-1e2e-4e5b-aee4-3317beffcd2f",
   "metadata": {},
   "source": [
    "# 2) Financial data\n"
   ]
  },
  {
   "cell_type": "code",
   "execution_count": 10,
   "id": "690c10fa-42bd-4c18-b151-1242ecaf1802",
   "metadata": {
    "tags": []
   },
   "outputs": [
    {
     "name": "stdout",
     "output_type": "stream",
     "text": [
      "Basic Financial Metrics:\n",
      "\n",
      "['Tax Effect Of Unusual Items',\n",
      " 'Tax Rate For Calcs',\n",
      " 'Normalized EBITDA',\n",
      " 'Net Income From Continuing Operation Net Minority Interest',\n",
      " 'Reconciled Depreciation',\n",
      " 'Reconciled Cost Of Revenue',\n",
      " 'EBITDA',\n",
      " 'EBIT',\n",
      " 'Net Interest Income',\n",
      " 'Interest Expense',\n",
      " 'Interest Income',\n",
      " 'Normalized Income',\n",
      " 'Net Income From Continuing And Discontinued Operation',\n",
      " 'Total Expenses',\n",
      " 'Total Operating Income As Reported',\n",
      " 'Diluted Average Shares',\n",
      " 'Basic Average Shares',\n",
      " 'Diluted EPS',\n",
      " 'Basic EPS',\n",
      " 'Diluted NI Availto Com Stockholders',\n",
      " 'Net Income Common Stockholders',\n",
      " 'Net Income',\n",
      " 'Net Income Including Noncontrolling Interests',\n",
      " 'Net Income Continuous Operations',\n",
      " 'Tax Provision',\n",
      " 'Pretax Income',\n",
      " 'Other Income Expense',\n",
      " 'Other Non Operating Income Expenses',\n",
      " 'Net Non Operating Interest Income Expense',\n",
      " 'Interest Expense Non Operating',\n",
      " 'Interest Income Non Operating',\n",
      " 'Operating Income',\n",
      " 'Operating Expense',\n",
      " 'Research And Development',\n",
      " 'Selling General And Administration',\n",
      " 'Gross Profit',\n",
      " 'Cost Of Revenue',\n",
      " 'Total Revenue',\n",
      " 'Operating Revenue']\n"
     ]
    }
   ],
   "source": [
    "# Fetch basic financials\n",
    "financials_df = ticker.financials\n",
    "print(\"Basic Financial Metrics:\\n\")\n",
    "pprint(list(financials_df.index))"
   ]
  },
  {
   "cell_type": "code",
   "execution_count": 11,
   "id": "16682d63-09d6-437f-a956-f843f68fafa7",
   "metadata": {},
   "outputs": [
    {
     "name": "stdout",
     "output_type": "stream",
     "text": [
      "\n",
      "Financials data frame:\n"
     ]
    },
    {
     "data": {
      "text/html": [
       "<div>\n",
       "<style scoped>\n",
       "    .dataframe tbody tr th:only-of-type {\n",
       "        vertical-align: middle;\n",
       "    }\n",
       "\n",
       "    .dataframe tbody tr th {\n",
       "        vertical-align: top;\n",
       "    }\n",
       "\n",
       "    .dataframe thead th {\n",
       "        text-align: right;\n",
       "    }\n",
       "</style>\n",
       "<table border=\"1\" class=\"dataframe\">\n",
       "  <thead>\n",
       "    <tr style=\"text-align: right;\">\n",
       "      <th></th>\n",
       "      <th>2024-09-30</th>\n",
       "      <th>2023-09-30</th>\n",
       "      <th>2022-09-30</th>\n",
       "      <th>2021-09-30</th>\n",
       "      <th>2020-09-30</th>\n",
       "    </tr>\n",
       "  </thead>\n",
       "  <tbody>\n",
       "    <tr>\n",
       "      <th>Tax Effect Of Unusual Items</th>\n",
       "      <td>0.0</td>\n",
       "      <td>0.0</td>\n",
       "      <td>0.0</td>\n",
       "      <td>0.0</td>\n",
       "      <td>NaN</td>\n",
       "    </tr>\n",
       "    <tr>\n",
       "      <th>Tax Rate For Calcs</th>\n",
       "      <td>0.241</td>\n",
       "      <td>0.147</td>\n",
       "      <td>0.162</td>\n",
       "      <td>0.133</td>\n",
       "      <td>NaN</td>\n",
       "    </tr>\n",
       "    <tr>\n",
       "      <th>Normalized EBITDA</th>\n",
       "      <td>134661000000.0</td>\n",
       "      <td>125820000000.0</td>\n",
       "      <td>130541000000.0</td>\n",
       "      <td>123136000000.0</td>\n",
       "      <td>NaN</td>\n",
       "    </tr>\n",
       "    <tr>\n",
       "      <th>Net Income From Continuing Operation Net Minority Interest</th>\n",
       "      <td>93736000000.0</td>\n",
       "      <td>96995000000.0</td>\n",
       "      <td>99803000000.0</td>\n",
       "      <td>94680000000.0</td>\n",
       "      <td>NaN</td>\n",
       "    </tr>\n",
       "    <tr>\n",
       "      <th>Reconciled Depreciation</th>\n",
       "      <td>11445000000.0</td>\n",
       "      <td>11519000000.0</td>\n",
       "      <td>11104000000.0</td>\n",
       "      <td>11284000000.0</td>\n",
       "      <td>NaN</td>\n",
       "    </tr>\n",
       "  </tbody>\n",
       "</table>\n",
       "</div>"
      ],
      "text/plain": [
       "                                                        2024-09-30  \\\n",
       "Tax Effect Of Unusual Items                                    0.0   \n",
       "Tax Rate For Calcs                                           0.241   \n",
       "Normalized EBITDA                                   134661000000.0   \n",
       "Net Income From Continuing Operation Net Minori...   93736000000.0   \n",
       "Reconciled Depreciation                              11445000000.0   \n",
       "\n",
       "                                                        2023-09-30  \\\n",
       "Tax Effect Of Unusual Items                                    0.0   \n",
       "Tax Rate For Calcs                                           0.147   \n",
       "Normalized EBITDA                                   125820000000.0   \n",
       "Net Income From Continuing Operation Net Minori...   96995000000.0   \n",
       "Reconciled Depreciation                              11519000000.0   \n",
       "\n",
       "                                                        2022-09-30  \\\n",
       "Tax Effect Of Unusual Items                                    0.0   \n",
       "Tax Rate For Calcs                                           0.162   \n",
       "Normalized EBITDA                                   130541000000.0   \n",
       "Net Income From Continuing Operation Net Minori...   99803000000.0   \n",
       "Reconciled Depreciation                              11104000000.0   \n",
       "\n",
       "                                                        2021-09-30 2020-09-30  \n",
       "Tax Effect Of Unusual Items                                    0.0        NaN  \n",
       "Tax Rate For Calcs                                           0.133        NaN  \n",
       "Normalized EBITDA                                   123136000000.0        NaN  \n",
       "Net Income From Continuing Operation Net Minori...   94680000000.0        NaN  \n",
       "Reconciled Depreciation                              11284000000.0        NaN  "
      ]
     },
     "metadata": {},
     "output_type": "display_data"
    }
   ],
   "source": [
    "print(\"\\nFinancials data frame:\")\n",
    "display(financials_df.head())"
   ]
  },
  {
   "cell_type": "markdown",
   "id": "ee0706cf-7f5f-43c6-857a-fd6360b1d80c",
   "metadata": {},
   "source": [
    "# 3) Stock Actions data"
   ]
  },
  {
   "cell_type": "code",
   "execution_count": 12,
   "id": "64999f4a-6539-4020-a81c-35afe9fe1e24",
   "metadata": {
    "tags": []
   },
   "outputs": [
    {
     "name": "stdout",
     "output_type": "stream",
     "text": [
      "\n",
      "Stock Actions dataframe:\n"
     ]
    },
    {
     "data": {
      "text/html": [
       "<div>\n",
       "<style scoped>\n",
       "    .dataframe tbody tr th:only-of-type {\n",
       "        vertical-align: middle;\n",
       "    }\n",
       "\n",
       "    .dataframe tbody tr th {\n",
       "        vertical-align: top;\n",
       "    }\n",
       "\n",
       "    .dataframe thead th {\n",
       "        text-align: right;\n",
       "    }\n",
       "</style>\n",
       "<table border=\"1\" class=\"dataframe\">\n",
       "  <thead>\n",
       "    <tr style=\"text-align: right;\">\n",
       "      <th></th>\n",
       "      <th>Dividends</th>\n",
       "      <th>Stock Splits</th>\n",
       "    </tr>\n",
       "    <tr>\n",
       "      <th>Date</th>\n",
       "      <th></th>\n",
       "      <th></th>\n",
       "    </tr>\n",
       "  </thead>\n",
       "  <tbody>\n",
       "    <tr>\n",
       "      <th>2024-05-10 00:00:00-04:00</th>\n",
       "      <td>0.25</td>\n",
       "      <td>0.0</td>\n",
       "    </tr>\n",
       "    <tr>\n",
       "      <th>2024-08-12 00:00:00-04:00</th>\n",
       "      <td>0.25</td>\n",
       "      <td>0.0</td>\n",
       "    </tr>\n",
       "    <tr>\n",
       "      <th>2024-11-08 00:00:00-05:00</th>\n",
       "      <td>0.25</td>\n",
       "      <td>0.0</td>\n",
       "    </tr>\n",
       "  </tbody>\n",
       "</table>\n",
       "</div>"
      ],
      "text/plain": [
       "                           Dividends  Stock Splits\n",
       "Date                                              \n",
       "2024-05-10 00:00:00-04:00       0.25           0.0\n",
       "2024-08-12 00:00:00-04:00       0.25           0.0\n",
       "2024-11-08 00:00:00-05:00       0.25           0.0"
      ]
     },
     "metadata": {},
     "output_type": "display_data"
    }
   ],
   "source": [
    "# Fetch stock actions like dividends and splits\n",
    "actions_df = ticker.actions\n",
    "print(\"\\nStock Actions dataframe:\")\n",
    "display(actions_df.head())"
   ]
  },
  {
   "cell_type": "markdown",
   "id": "b6991e90-4f1b-493f-833b-c4d91ce46a17",
   "metadata": {
    "tags": []
   },
   "source": [
    "# Glossary "
   ]
  },
  {
   "cell_type": "markdown",
   "id": "4589fe05-d7f1-4e65-93aa-29753f59e73c",
   "metadata": {
    "tags": []
   },
   "source": [
    "### ⭐ Glossary of Historical data metrics:\n",
    "    \n",
    "1️⃣ Open → The stock price at the start of the trading day.\n",
    "\n",
    "2️⃣ High → The highest price the stock reached during the trading day.\n",
    "\n",
    "3️⃣ Low → The lowest price the stock traded at during the day.\n",
    "\n",
    "4️⃣ Close → The stock price at the end of the trading day (most commonly used for analysis).\n",
    "\n",
    "5️⃣ Volume → The total number of shares traded during the day (indicates liquidity and market activity).\n",
    "\n",
    "6️⃣ Dividends → The amount paid per share to shareholders, usually quarterly (if applicable).\n",
    "\n",
    "7️⃣ Stock Splits → The ratio of a stock split (e.g., 2-for-1 means each share becomes two, reducing price per share)."
   ]
  },
  {
   "cell_type": "markdown",
   "id": "1912f7a9-2c3c-4cf7-829d-df4766baa7b0",
   "metadata": {},
   "source": [
    "### ⭐ Glossary of Financial metrics:\n",
    "    \n",
    "1️⃣ Tax Effect Of Unusual Items → Tax impact of non-recurring or unusual expenses/income.\n",
    "\n",
    "2️⃣ Tax Rate For Calcs → Effective tax rate used for financial calculations.\n",
    "\n",
    "3️⃣ Normalized EBITDA → Adjusted Earnings Before Interest, Taxes, Depreciation, and Amortization (EBITDA), removing irregular items.\n",
    "\n",
    "4️⃣ Net Income From Continuing Operation Net Minority Interest → Profit from ongoing operations after subtracting minority interest.\n",
    "\n",
    "5️⃣ Reconciled Depreciation → Adjusted depreciation expense to align financial statements.\n",
    "\n",
    "6️⃣ Reconciled Cost Of Revenue → Adjusted cost of goods sold (COGS) to reflect reconciliations.\n",
    "\n",
    "7️⃣ EBITDA → Earnings Before Interest, Taxes, Depreciation, and Amortization, a measure of operating performance.\n",
    "\n",
    "8️⃣ EBIT → Earnings Before Interest and Taxes, a profitability metric before interest expenses.\n",
    "\n",
    "9️⃣ Net Interest Income → Interest earned from assets (like loans) minus interest paid on liabilities.\n",
    "\n",
    "🔟 Interest Expense → Total cost of borrowing (interest paid on loans and bonds).\n",
    "\n",
    "1️⃣1️⃣ Interest Income → Revenue earned from interest-bearing investments.\n",
    "\n",
    "1️⃣2️⃣ Normalized Income → Adjusted net income excluding one-time or unusual items.\n",
    "\n",
    "1️⃣3️⃣ Net Income From Continuing And Discontinued Operation → Total profit, including both ongoing and sold/discontinued businesses.\n",
    "\n",
    "1️⃣4️⃣ Total Expenses → Sum of all costs, including operating and non-operating expenses.\n",
    "\n",
    "1️⃣5️⃣ Total Operating Income As Reported → Revenue from core business activities before adjustments.\n",
    "\n",
    "1️⃣6️⃣ Diluted Average Shares → Weighted average number of shares outstanding, including convertible securities.\n",
    "\n",
    "1️⃣7️⃣ Basic Average Shares → Weighted average number of shares outstanding without dilution adjustments.\n",
    "\n",
    "1️⃣8️⃣ Diluted EPS → Earnings Per Share (EPS) considering potential dilution from options and convertible securities.\n",
    "\n",
    "1️⃣9️⃣ Basic EPS → Earnings Per Share (EPS) calculated using only basic outstanding shares.\n",
    "\n",
    "2️⃣0️⃣ Diluted NI Avail to Com Stockholders → Net income available to common shareholders, adjusted for dilution.\n",
    "\n",
    "2️⃣1️⃣ Net Income Common Stockholders → Profit attributable to common stockholders after preferred dividends.\n",
    "\n",
    "2️⃣2️⃣ Net Income → Bottom-line profit after all expenses, taxes, and deductions.\n",
    "\n",
    "2️⃣3️⃣ Net Income Including Noncontrolling Interests → Net income, including profits attributed to minority shareholders.\n",
    "\n",
    "2️⃣4️⃣ Net Income Continuous Operations → Profit from only ongoing business activities (excludes discontinued operations).\n",
    "\n",
    "2️⃣5️⃣ Tax Provision → Total income tax expenses recorded in financial statements.\n",
    "\n",
    "2️⃣6️⃣ Pretax Income → Profit before income tax expenses are deducted.\n",
    "\n",
    "2️⃣7️⃣ Other Income Expense → Non-operating income or expenses, such as gains/losses from investments.\n",
    "\n",
    "2️⃣8️⃣ Other Non-Operating Income Expenses → Income or losses not related to core business operations.\n",
    "\n",
    "2️⃣9️⃣ Net Non-Operating Interest Income Expense → Difference between non-operating interest income and interest expense.\n",
    "\n",
    "3️⃣0️⃣ Interest Expense Non-Operating → Interest costs not directly tied to business operations.\n",
    "\n",
    "3️⃣1️⃣ Interest Income Non-Operating → Interest earnings from investments, not part of core operations.\n",
    "\n",
    "3️⃣2️⃣ Operating Income → Revenue minus operating expenses, a measure of core profitability.\n",
    "\n",
    "3️⃣3️⃣ Operating Expense → Costs related to running the business (e.g., salaries, rent, utilities).\n",
    "\n",
    "3️⃣4️⃣ Research And Development (R&D) → Spending on innovation and new product development.\n",
    "\n",
    "3️⃣5️⃣ Selling General And Administration (SG&A) → Overhead costs, including marketing, admin, and corporate expenses.\n",
    "\n",
    "3️⃣6️⃣ Gross Profit → Revenue minus cost of revenue, indicating profitability before operating costs.\n",
    "\n",
    "3️⃣7️⃣ Cost Of Revenue → Direct costs incurred to produce goods/services (similar to COGS).\n",
    "\n",
    "3️⃣8️⃣ Total Revenue → Total money earned from sales, including operating and non-operating income.\n",
    "\n",
    "3️⃣9️⃣ Operating Revenue → Revenue generated only from core business operations.\n",
    "\n"
   ]
  },
  {
   "cell_type": "code",
   "execution_count": null,
   "id": "295bb898-f0d6-4401-97ca-b08b8cf49650",
   "metadata": {},
   "outputs": [],
   "source": []
  }
 ],
 "metadata": {
  "kernelspec": {
   "display_name": "quant-env",
   "language": "python",
   "name": "quant-env"
  },
  "language_info": {
   "codemirror_mode": {
    "name": "ipython",
    "version": 3
   },
   "file_extension": ".py",
   "mimetype": "text/x-python",
   "name": "python",
   "nbconvert_exporter": "python",
   "pygments_lexer": "ipython3",
   "version": "3.11.10"
  }
 },
 "nbformat": 4,
 "nbformat_minor": 5
}
