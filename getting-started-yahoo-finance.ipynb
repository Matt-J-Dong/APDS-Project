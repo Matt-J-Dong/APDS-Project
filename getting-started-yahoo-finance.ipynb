{
 "cells": [
  {
   "cell_type": "markdown",
   "id": "8c09e7e6-641d-4e09-b3f3-30547de9cb23",
   "metadata": {},
   "source": [
    "# The `yfinance API` (***Yahoo!*** Finance)"
   ]
  },
  {
   "cell_type": "code",
   "execution_count": 1,
   "id": "53e48a31-b558-4fee-a66c-40a20c442447",
   "metadata": {},
   "outputs": [],
   "source": [
    "import yfinance as yf\n",
    "import pandas as pd\n",
    "import numpy as np\n",
    "import matplotlib.pyplot as plt\n",
    "from pprint import pprint \n",
    "from datetime import date"
   ]
  },
  {
   "cell_type": "code",
   "execution_count": 2,
   "id": "37a3c3f0-dec1-4b68-a5bc-cb670cb5dbf0",
   "metadata": {},
   "outputs": [
    {
     "name": "stdout",
     "output_type": "stream",
     "text": [
      "Let's explore Apple Inc: \"AAPL\" (ticker symbol)\n"
     ]
    }
   ],
   "source": [
    "# Create a Ticker object using ticker symbol: Apple Inc \n",
    "print(\"Let's explore Apple Inc: \\\"AAPL\\\" (ticker symbol)\")\n",
    "ticker = yf.Ticker(\"AAPL\")"
   ]
  },
  {
   "cell_type": "markdown",
   "id": "e045e3f8-7785-4815-8f9b-d776c6f2b9df",
   "metadata": {},
   "source": [
    "# 1) Historical Market data\n"
   ]
  },
  {
   "cell_type": "code",
   "execution_count": 3,
   "id": "b79b3095-e4de-4d6d-bb13-ea6613aea8e6",
   "metadata": {
    "tags": []
   },
   "outputs": [
    {
     "ename": "YFRateLimitError",
     "evalue": "Too Many Requests. Rate limited. Try after a while.",
     "output_type": "error",
     "traceback": [
      "\u001b[0;31m---------------------------------------------------------------------------\u001b[0m",
      "\u001b[0;31mYFRateLimitError\u001b[0m                          Traceback (most recent call last)",
      "Cell \u001b[0;32mIn[3], line 4\u001b[0m\n\u001b[1;32m      1\u001b[0m data_period \u001b[38;5;241m=\u001b[39m \u001b[38;5;124m\"\u001b[39m\u001b[38;5;124m1y\u001b[39m\u001b[38;5;124m\"\u001b[39m\n\u001b[1;32m      3\u001b[0m \u001b[38;5;66;03m# Fetch historical market data\u001b[39;00m\n\u001b[0;32m----> 4\u001b[0m historical_data_df \u001b[38;5;241m=\u001b[39m ticker\u001b[38;5;241m.\u001b[39mhistory(period\u001b[38;5;241m=\u001b[39mdata_period)  \u001b[38;5;66;03m# data for the last year\u001b[39;00m\n\u001b[1;32m      5\u001b[0m \u001b[38;5;28mprint\u001b[39m(\u001b[38;5;124m\"\u001b[39m\u001b[38;5;124mHistorical Data Columns:\u001b[39m\u001b[38;5;124m\"\u001b[39m)\n\u001b[1;32m      6\u001b[0m pprint(\u001b[38;5;28mlist\u001b[39m(historical_data_df\u001b[38;5;241m.\u001b[39mcolumns))\n",
      "File \u001b[0;32m~/anaconda3/lib/python3.11/site-packages/yfinance/utils.py:104\u001b[0m, in \u001b[0;36mlog_indent_decorator.<locals>.wrapper\u001b[0;34m(*args, **kwargs)\u001b[0m\n\u001b[1;32m    101\u001b[0m logger\u001b[38;5;241m.\u001b[39mdebug(\u001b[38;5;124mf\u001b[39m\u001b[38;5;124m'\u001b[39m\u001b[38;5;124mEntering \u001b[39m\u001b[38;5;132;01m{\u001b[39;00mfunc\u001b[38;5;241m.\u001b[39m\u001b[38;5;18m__name__\u001b[39m\u001b[38;5;132;01m}\u001b[39;00m\u001b[38;5;124m()\u001b[39m\u001b[38;5;124m'\u001b[39m)\n\u001b[1;32m    103\u001b[0m \u001b[38;5;28;01mwith\u001b[39;00m IndentationContext():\n\u001b[0;32m--> 104\u001b[0m     result \u001b[38;5;241m=\u001b[39m func(\u001b[38;5;241m*\u001b[39margs, \u001b[38;5;241m*\u001b[39m\u001b[38;5;241m*\u001b[39mkwargs)\n\u001b[1;32m    106\u001b[0m logger\u001b[38;5;241m.\u001b[39mdebug(\u001b[38;5;124mf\u001b[39m\u001b[38;5;124m'\u001b[39m\u001b[38;5;124mExiting \u001b[39m\u001b[38;5;132;01m{\u001b[39;00mfunc\u001b[38;5;241m.\u001b[39m\u001b[38;5;18m__name__\u001b[39m\u001b[38;5;132;01m}\u001b[39;00m\u001b[38;5;124m()\u001b[39m\u001b[38;5;124m'\u001b[39m)\n\u001b[1;32m    107\u001b[0m \u001b[38;5;28;01mreturn\u001b[39;00m result\n",
      "File \u001b[0;32m~/anaconda3/lib/python3.11/site-packages/yfinance/base.py:81\u001b[0m, in \u001b[0;36mTickerBase.history\u001b[0;34m(self, *args, **kwargs)\u001b[0m\n\u001b[1;32m     79\u001b[0m \u001b[38;5;129m@utils\u001b[39m\u001b[38;5;241m.\u001b[39mlog_indent_decorator\n\u001b[1;32m     80\u001b[0m \u001b[38;5;28;01mdef\u001b[39;00m \u001b[38;5;21mhistory\u001b[39m(\u001b[38;5;28mself\u001b[39m, \u001b[38;5;241m*\u001b[39margs, \u001b[38;5;241m*\u001b[39m\u001b[38;5;241m*\u001b[39mkwargs) \u001b[38;5;241m-\u001b[39m\u001b[38;5;241m>\u001b[39m pd\u001b[38;5;241m.\u001b[39mDataFrame:\n\u001b[0;32m---> 81\u001b[0m     \u001b[38;5;28;01mreturn\u001b[39;00m \u001b[38;5;28mself\u001b[39m\u001b[38;5;241m.\u001b[39m_lazy_load_price_history()\u001b[38;5;241m.\u001b[39mhistory(\u001b[38;5;241m*\u001b[39margs, \u001b[38;5;241m*\u001b[39m\u001b[38;5;241m*\u001b[39mkwargs)\n",
      "File \u001b[0;32m~/anaconda3/lib/python3.11/site-packages/yfinance/utils.py:104\u001b[0m, in \u001b[0;36mlog_indent_decorator.<locals>.wrapper\u001b[0;34m(*args, **kwargs)\u001b[0m\n\u001b[1;32m    101\u001b[0m logger\u001b[38;5;241m.\u001b[39mdebug(\u001b[38;5;124mf\u001b[39m\u001b[38;5;124m'\u001b[39m\u001b[38;5;124mEntering \u001b[39m\u001b[38;5;132;01m{\u001b[39;00mfunc\u001b[38;5;241m.\u001b[39m\u001b[38;5;18m__name__\u001b[39m\u001b[38;5;132;01m}\u001b[39;00m\u001b[38;5;124m()\u001b[39m\u001b[38;5;124m'\u001b[39m)\n\u001b[1;32m    103\u001b[0m \u001b[38;5;28;01mwith\u001b[39;00m IndentationContext():\n\u001b[0;32m--> 104\u001b[0m     result \u001b[38;5;241m=\u001b[39m func(\u001b[38;5;241m*\u001b[39margs, \u001b[38;5;241m*\u001b[39m\u001b[38;5;241m*\u001b[39mkwargs)\n\u001b[1;32m    106\u001b[0m logger\u001b[38;5;241m.\u001b[39mdebug(\u001b[38;5;124mf\u001b[39m\u001b[38;5;124m'\u001b[39m\u001b[38;5;124mExiting \u001b[39m\u001b[38;5;132;01m{\u001b[39;00mfunc\u001b[38;5;241m.\u001b[39m\u001b[38;5;18m__name__\u001b[39m\u001b[38;5;132;01m}\u001b[39;00m\u001b[38;5;124m()\u001b[39m\u001b[38;5;124m'\u001b[39m)\n\u001b[1;32m    107\u001b[0m \u001b[38;5;28;01mreturn\u001b[39;00m result\n",
      "File \u001b[0;32m~/anaconda3/lib/python3.11/site-packages/yfinance/scrapers/history.py:175\u001b[0m, in \u001b[0;36mPriceHistory.history\u001b[0;34m(self, period, interval, start, end, prepost, actions, auto_adjust, back_adjust, repair, keepna, proxy, rounding, timeout, raise_errors)\u001b[0m\n\u001b[1;32m    173\u001b[0m         get_fn \u001b[38;5;241m=\u001b[39m \u001b[38;5;28mself\u001b[39m\u001b[38;5;241m.\u001b[39m_data\u001b[38;5;241m.\u001b[39mcache_get\n\u001b[1;32m    174\u001b[0m \u001b[38;5;28;01mtry\u001b[39;00m:\n\u001b[0;32m--> 175\u001b[0m     data \u001b[38;5;241m=\u001b[39m get_fn(\n\u001b[1;32m    176\u001b[0m         url\u001b[38;5;241m=\u001b[39murl,\n\u001b[1;32m    177\u001b[0m         params\u001b[38;5;241m=\u001b[39mparams,\n\u001b[1;32m    178\u001b[0m         proxy\u001b[38;5;241m=\u001b[39mproxy,\n\u001b[1;32m    179\u001b[0m         timeout\u001b[38;5;241m=\u001b[39mtimeout\n\u001b[1;32m    180\u001b[0m     )\n\u001b[1;32m    181\u001b[0m     \u001b[38;5;28;01mif\u001b[39;00m \u001b[38;5;124m\"\u001b[39m\u001b[38;5;124mWill be right back\u001b[39m\u001b[38;5;124m\"\u001b[39m \u001b[38;5;129;01min\u001b[39;00m data\u001b[38;5;241m.\u001b[39mtext \u001b[38;5;129;01mor\u001b[39;00m data \u001b[38;5;129;01mis\u001b[39;00m \u001b[38;5;28;01mNone\u001b[39;00m:\n\u001b[1;32m    182\u001b[0m         \u001b[38;5;28;01mraise\u001b[39;00m \u001b[38;5;167;01mRuntimeError\u001b[39;00m(\u001b[38;5;124m\"\u001b[39m\u001b[38;5;124m*** YAHOO! FINANCE IS CURRENTLY DOWN! ***\u001b[39m\u001b[38;5;130;01m\\n\u001b[39;00m\u001b[38;5;124m\"\u001b[39m\n\u001b[1;32m    183\u001b[0m                            \u001b[38;5;124m\"\u001b[39m\u001b[38;5;124mOur engineers are working quickly to resolve \u001b[39m\u001b[38;5;124m\"\u001b[39m\n\u001b[1;32m    184\u001b[0m                            \u001b[38;5;124m\"\u001b[39m\u001b[38;5;124mthe issue. Thank you for your patience.\u001b[39m\u001b[38;5;124m\"\u001b[39m)\n",
      "File \u001b[0;32m~/anaconda3/lib/python3.11/site-packages/yfinance/utils.py:104\u001b[0m, in \u001b[0;36mlog_indent_decorator.<locals>.wrapper\u001b[0;34m(*args, **kwargs)\u001b[0m\n\u001b[1;32m    101\u001b[0m logger\u001b[38;5;241m.\u001b[39mdebug(\u001b[38;5;124mf\u001b[39m\u001b[38;5;124m'\u001b[39m\u001b[38;5;124mEntering \u001b[39m\u001b[38;5;132;01m{\u001b[39;00mfunc\u001b[38;5;241m.\u001b[39m\u001b[38;5;18m__name__\u001b[39m\u001b[38;5;132;01m}\u001b[39;00m\u001b[38;5;124m()\u001b[39m\u001b[38;5;124m'\u001b[39m)\n\u001b[1;32m    103\u001b[0m \u001b[38;5;28;01mwith\u001b[39;00m IndentationContext():\n\u001b[0;32m--> 104\u001b[0m     result \u001b[38;5;241m=\u001b[39m func(\u001b[38;5;241m*\u001b[39margs, \u001b[38;5;241m*\u001b[39m\u001b[38;5;241m*\u001b[39mkwargs)\n\u001b[1;32m    106\u001b[0m logger\u001b[38;5;241m.\u001b[39mdebug(\u001b[38;5;124mf\u001b[39m\u001b[38;5;124m'\u001b[39m\u001b[38;5;124mExiting \u001b[39m\u001b[38;5;132;01m{\u001b[39;00mfunc\u001b[38;5;241m.\u001b[39m\u001b[38;5;18m__name__\u001b[39m\u001b[38;5;132;01m}\u001b[39;00m\u001b[38;5;124m()\u001b[39m\u001b[38;5;124m'\u001b[39m)\n\u001b[1;32m    107\u001b[0m \u001b[38;5;28;01mreturn\u001b[39;00m result\n",
      "File \u001b[0;32m~/anaconda3/lib/python3.11/site-packages/yfinance/data.py:335\u001b[0m, in \u001b[0;36mYfData.get\u001b[0;34m(self, url, user_agent_headers, params, proxy, timeout)\u001b[0m\n\u001b[1;32m    333\u001b[0m \u001b[38;5;129m@utils\u001b[39m\u001b[38;5;241m.\u001b[39mlog_indent_decorator\n\u001b[1;32m    334\u001b[0m \u001b[38;5;28;01mdef\u001b[39;00m \u001b[38;5;21mget\u001b[39m(\u001b[38;5;28mself\u001b[39m, url, user_agent_headers\u001b[38;5;241m=\u001b[39m\u001b[38;5;28;01mNone\u001b[39;00m, params\u001b[38;5;241m=\u001b[39m\u001b[38;5;28;01mNone\u001b[39;00m, proxy\u001b[38;5;241m=\u001b[39m\u001b[38;5;28;01mNone\u001b[39;00m, timeout\u001b[38;5;241m=\u001b[39m\u001b[38;5;241m30\u001b[39m):\n\u001b[0;32m--> 335\u001b[0m     \u001b[38;5;28;01mreturn\u001b[39;00m \u001b[38;5;28mself\u001b[39m\u001b[38;5;241m.\u001b[39m_make_request(url, request_method \u001b[38;5;241m=\u001b[39m \u001b[38;5;28mself\u001b[39m\u001b[38;5;241m.\u001b[39m_session\u001b[38;5;241m.\u001b[39mget, user_agent_headers\u001b[38;5;241m=\u001b[39muser_agent_headers, params\u001b[38;5;241m=\u001b[39mparams, proxy\u001b[38;5;241m=\u001b[39mproxy, timeout\u001b[38;5;241m=\u001b[39mtimeout)\n",
      "File \u001b[0;32m~/anaconda3/lib/python3.11/site-packages/yfinance/utils.py:104\u001b[0m, in \u001b[0;36mlog_indent_decorator.<locals>.wrapper\u001b[0;34m(*args, **kwargs)\u001b[0m\n\u001b[1;32m    101\u001b[0m logger\u001b[38;5;241m.\u001b[39mdebug(\u001b[38;5;124mf\u001b[39m\u001b[38;5;124m'\u001b[39m\u001b[38;5;124mEntering \u001b[39m\u001b[38;5;132;01m{\u001b[39;00mfunc\u001b[38;5;241m.\u001b[39m\u001b[38;5;18m__name__\u001b[39m\u001b[38;5;132;01m}\u001b[39;00m\u001b[38;5;124m()\u001b[39m\u001b[38;5;124m'\u001b[39m)\n\u001b[1;32m    103\u001b[0m \u001b[38;5;28;01mwith\u001b[39;00m IndentationContext():\n\u001b[0;32m--> 104\u001b[0m     result \u001b[38;5;241m=\u001b[39m func(\u001b[38;5;241m*\u001b[39margs, \u001b[38;5;241m*\u001b[39m\u001b[38;5;241m*\u001b[39mkwargs)\n\u001b[1;32m    106\u001b[0m logger\u001b[38;5;241m.\u001b[39mdebug(\u001b[38;5;124mf\u001b[39m\u001b[38;5;124m'\u001b[39m\u001b[38;5;124mExiting \u001b[39m\u001b[38;5;132;01m{\u001b[39;00mfunc\u001b[38;5;241m.\u001b[39m\u001b[38;5;18m__name__\u001b[39m\u001b[38;5;132;01m}\u001b[39;00m\u001b[38;5;124m()\u001b[39m\u001b[38;5;124m'\u001b[39m)\n\u001b[1;32m    107\u001b[0m \u001b[38;5;28;01mreturn\u001b[39;00m result\n",
      "File \u001b[0;32m~/anaconda3/lib/python3.11/site-packages/yfinance/data.py:397\u001b[0m, in \u001b[0;36mYfData._make_request\u001b[0;34m(self, url, request_method, user_agent_headers, body, params, proxy, timeout)\u001b[0m\n\u001b[1;32m    395\u001b[0m     \u001b[38;5;66;03m# Raise exception if rate limited\u001b[39;00m\n\u001b[1;32m    396\u001b[0m     \u001b[38;5;28;01mif\u001b[39;00m response\u001b[38;5;241m.\u001b[39mstatus_code \u001b[38;5;241m==\u001b[39m \u001b[38;5;241m429\u001b[39m:\n\u001b[0;32m--> 397\u001b[0m         \u001b[38;5;28;01mraise\u001b[39;00m YFRateLimitError()\n\u001b[1;32m    399\u001b[0m \u001b[38;5;28;01mreturn\u001b[39;00m response\n",
      "\u001b[0;31mYFRateLimitError\u001b[0m: Too Many Requests. Rate limited. Try after a while."
     ]
    }
   ],
   "source": [
    "data_period = \"1y\"\n",
    "\n",
    "# Fetch historical market data\n",
    "historical_data_df = ticker.history(period=data_period)  # data for the last year\n",
    "print(\"Historical Data Columns:\")\n",
    "pprint(list(historical_data_df.columns))"
   ]
  },
  {
   "cell_type": "code",
   "execution_count": null,
   "id": "ed3a5a36-08a7-4da4-8ab8-dca061e78092",
   "metadata": {},
   "outputs": [],
   "source": [
    "# Save as pickle\n",
    "df.to_pickle('AAPL_1y_data.pkl')"
   ]
  },
  {
   "cell_type": "code",
   "execution_count": null,
   "id": "97cbdb15-0f50-4988-9f14-b2396ab56018",
   "metadata": {
    "tags": []
   },
   "outputs": [],
   "source": [
    "# Dates\n",
    "print(\"Historical data date indexes (indexes associated to each row)\")\n",
    "print(historical_data_df.index)"
   ]
  },
  {
   "cell_type": "code",
   "execution_count": null,
   "id": "e732a1ef-4209-4edd-9816-15a4de7b5401",
   "metadata": {},
   "outputs": [],
   "source": [
    "print(\"Historical data dataframe\")\n",
    "display(historical_data_df.head())"
   ]
  },
  {
   "cell_type": "code",
   "execution_count": null,
   "id": "b9ecd630-7c07-44f4-89b4-aaf6e29b4de7",
   "metadata": {},
   "outputs": [],
   "source": [
    "print(\"Historical data line plots\")\n",
    "ax1 = historical_data_df.plot.line(subplots=True)\n",
    "plt.show()"
   ]
  },
  {
   "cell_type": "markdown",
   "id": "53a59157-c0c6-4660-9f57-4be966c50a6e",
   "metadata": {},
   "source": [
    "### 1a) Getting \"Open\" Prices \n",
    "\n",
    "- similarly, this technique can be applied to \"High\", \"Low\", \"Close\", \"Volume\", \"Dividends\", \"Stock Splits\"."
   ]
  },
  {
   "cell_type": "code",
   "execution_count": null,
   "id": "0c37e7f1-6c6d-41b6-aee7-d0bb9c65ee65",
   "metadata": {
    "tags": []
   },
   "outputs": [],
   "source": [
    "print(\"Historical data: Querying \\\"Open\\\" princes\")\n",
    "historical_data_df[\"Open\"]"
   ]
  },
  {
   "cell_type": "markdown",
   "id": "63af3aef-abc2-4f88-a339-cb63467e3d23",
   "metadata": {},
   "source": [
    "### 1b) Getting historical data at a specified date using indexing  "
   ]
  },
  {
   "cell_type": "code",
   "execution_count": null,
   "id": "4e78b394-1097-4d0f-bda8-0d2559e620f5",
   "metadata": {
    "tags": []
   },
   "outputs": [],
   "source": [
    "print(\"Indexing into historical data to get all historical features:\")\n",
    "historical_data_df.loc[\"2025-02-10\"]"
   ]
  },
  {
   "cell_type": "code",
   "execution_count": null,
   "id": "05f6a058-f33c-45b9-8e7a-4c91176cf010",
   "metadata": {},
   "outputs": [],
   "source": [
    "print(f\"Today's ({date.today()}) data\")\n",
    "historical_data_df.loc[str(date.today())]"
   ]
  },
  {
   "cell_type": "markdown",
   "id": "2b6dca02-1e2e-4e5b-aee4-3317beffcd2f",
   "metadata": {},
   "source": [
    "# 2) Financial data\n"
   ]
  },
  {
   "cell_type": "code",
   "execution_count": null,
   "id": "690c10fa-42bd-4c18-b151-1242ecaf1802",
   "metadata": {
    "tags": []
   },
   "outputs": [],
   "source": [
    "# Fetch basic financials\n",
    "financials_df = ticker.financials\n",
    "print(\"Basic Financial Metrics:\\n\")\n",
    "pprint(list(financials_df.index))"
   ]
  },
  {
   "cell_type": "code",
   "execution_count": null,
   "id": "16682d63-09d6-437f-a956-f843f68fafa7",
   "metadata": {},
   "outputs": [],
   "source": [
    "print(\"\\nFinancials data frame:\")\n",
    "display(financials_df.head())"
   ]
  },
  {
   "cell_type": "markdown",
   "id": "ee0706cf-7f5f-43c6-857a-fd6360b1d80c",
   "metadata": {},
   "source": [
    "# 3) Stock Actions data"
   ]
  },
  {
   "cell_type": "code",
   "execution_count": null,
   "id": "64999f4a-6539-4020-a81c-35afe9fe1e24",
   "metadata": {
    "tags": []
   },
   "outputs": [],
   "source": [
    "# Fetch stock actions like dividends and splits\n",
    "actions_df = ticker.actions\n",
    "print(\"\\nStock Actions dataframe:\")\n",
    "display(actions_df.head())"
   ]
  },
  {
   "cell_type": "markdown",
   "id": "b6991e90-4f1b-493f-833b-c4d91ce46a17",
   "metadata": {
    "tags": []
   },
   "source": [
    "# Glossary "
   ]
  },
  {
   "cell_type": "markdown",
   "id": "4589fe05-d7f1-4e65-93aa-29753f59e73c",
   "metadata": {
    "tags": []
   },
   "source": [
    "### ⭐ Glossary of Historical data metrics:\n",
    "    \n",
    "1️⃣ Open → The stock price at the start of the trading day.\n",
    "\n",
    "2️⃣ High → The highest price the stock reached during the trading day.\n",
    "\n",
    "3️⃣ Low → The lowest price the stock traded at during the day.\n",
    "\n",
    "4️⃣ Close → The stock price at the end of the trading day (most commonly used for analysis).\n",
    "\n",
    "5️⃣ Volume → The total number of shares traded during the day (indicates liquidity and market activity).\n",
    "\n",
    "6️⃣ Dividends → The amount paid per share to shareholders, usually quarterly (if applicable).\n",
    "\n",
    "7️⃣ Stock Splits → The ratio of a stock split (e.g., 2-for-1 means each share becomes two, reducing price per share)."
   ]
  },
  {
   "cell_type": "markdown",
   "id": "1912f7a9-2c3c-4cf7-829d-df4766baa7b0",
   "metadata": {},
   "source": [
    "### ⭐ Glossary of Financial metrics:\n",
    "    \n",
    "1️⃣ Tax Effect Of Unusual Items → Tax impact of non-recurring or unusual expenses/income.\n",
    "\n",
    "2️⃣ Tax Rate For Calcs → Effective tax rate used for financial calculations.\n",
    "\n",
    "3️⃣ Normalized EBITDA → Adjusted Earnings Before Interest, Taxes, Depreciation, and Amortization (EBITDA), removing irregular items.\n",
    "\n",
    "4️⃣ Net Income From Continuing Operation Net Minority Interest → Profit from ongoing operations after subtracting minority interest.\n",
    "\n",
    "5️⃣ Reconciled Depreciation → Adjusted depreciation expense to align financial statements.\n",
    "\n",
    "6️⃣ Reconciled Cost Of Revenue → Adjusted cost of goods sold (COGS) to reflect reconciliations.\n",
    "\n",
    "7️⃣ EBITDA → Earnings Before Interest, Taxes, Depreciation, and Amortization, a measure of operating performance.\n",
    "\n",
    "8️⃣ EBIT → Earnings Before Interest and Taxes, a profitability metric before interest expenses.\n",
    "\n",
    "9️⃣ Net Interest Income → Interest earned from assets (like loans) minus interest paid on liabilities.\n",
    "\n",
    "🔟 Interest Expense → Total cost of borrowing (interest paid on loans and bonds).\n",
    "\n",
    "1️⃣1️⃣ Interest Income → Revenue earned from interest-bearing investments.\n",
    "\n",
    "1️⃣2️⃣ Normalized Income → Adjusted net income excluding one-time or unusual items.\n",
    "\n",
    "1️⃣3️⃣ Net Income From Continuing And Discontinued Operation → Total profit, including both ongoing and sold/discontinued businesses.\n",
    "\n",
    "1️⃣4️⃣ Total Expenses → Sum of all costs, including operating and non-operating expenses.\n",
    "\n",
    "1️⃣5️⃣ Total Operating Income As Reported → Revenue from core business activities before adjustments.\n",
    "\n",
    "1️⃣6️⃣ Diluted Average Shares → Weighted average number of shares outstanding, including convertible securities.\n",
    "\n",
    "1️⃣7️⃣ Basic Average Shares → Weighted average number of shares outstanding without dilution adjustments.\n",
    "\n",
    "1️⃣8️⃣ Diluted EPS → Earnings Per Share (EPS) considering potential dilution from options and convertible securities.\n",
    "\n",
    "1️⃣9️⃣ Basic EPS → Earnings Per Share (EPS) calculated using only basic outstanding shares.\n",
    "\n",
    "2️⃣0️⃣ Diluted NI Avail to Com Stockholders → Net income available to common shareholders, adjusted for dilution.\n",
    "\n",
    "2️⃣1️⃣ Net Income Common Stockholders → Profit attributable to common stockholders after preferred dividends.\n",
    "\n",
    "2️⃣2️⃣ Net Income → Bottom-line profit after all expenses, taxes, and deductions.\n",
    "\n",
    "2️⃣3️⃣ Net Income Including Noncontrolling Interests → Net income, including profits attributed to minority shareholders.\n",
    "\n",
    "2️⃣4️⃣ Net Income Continuous Operations → Profit from only ongoing business activities (excludes discontinued operations).\n",
    "\n",
    "2️⃣5️⃣ Tax Provision → Total income tax expenses recorded in financial statements.\n",
    "\n",
    "2️⃣6️⃣ Pretax Income → Profit before income tax expenses are deducted.\n",
    "\n",
    "2️⃣7️⃣ Other Income Expense → Non-operating income or expenses, such as gains/losses from investments.\n",
    "\n",
    "2️⃣8️⃣ Other Non-Operating Income Expenses → Income or losses not related to core business operations.\n",
    "\n",
    "2️⃣9️⃣ Net Non-Operating Interest Income Expense → Difference between non-operating interest income and interest expense.\n",
    "\n",
    "3️⃣0️⃣ Interest Expense Non-Operating → Interest costs not directly tied to business operations.\n",
    "\n",
    "3️⃣1️⃣ Interest Income Non-Operating → Interest earnings from investments, not part of core operations.\n",
    "\n",
    "3️⃣2️⃣ Operating Income → Revenue minus operating expenses, a measure of core profitability.\n",
    "\n",
    "3️⃣3️⃣ Operating Expense → Costs related to running the business (e.g., salaries, rent, utilities).\n",
    "\n",
    "3️⃣4️⃣ Research And Development (R&D) → Spending on innovation and new product development.\n",
    "\n",
    "3️⃣5️⃣ Selling General And Administration (SG&A) → Overhead costs, including marketing, admin, and corporate expenses.\n",
    "\n",
    "3️⃣6️⃣ Gross Profit → Revenue minus cost of revenue, indicating profitability before operating costs.\n",
    "\n",
    "3️⃣7️⃣ Cost Of Revenue → Direct costs incurred to produce goods/services (similar to COGS).\n",
    "\n",
    "3️⃣8️⃣ Total Revenue → Total money earned from sales, including operating and non-operating income.\n",
    "\n",
    "3️⃣9️⃣ Operating Revenue → Revenue generated only from core business operations.\n",
    "\n"
   ]
  },
  {
   "cell_type": "code",
   "execution_count": null,
   "id": "295bb898-f0d6-4401-97ca-b08b8cf49650",
   "metadata": {},
   "outputs": [],
   "source": []
  }
 ],
 "metadata": {
  "kernelspec": {
   "display_name": "quant-env",
   "language": "python",
   "name": "quant-env"
  },
  "language_info": {
   "codemirror_mode": {
    "name": "ipython",
    "version": 3
   },
   "file_extension": ".py",
   "mimetype": "text/x-python",
   "name": "python",
   "nbconvert_exporter": "python",
   "pygments_lexer": "ipython3",
   "version": "3.11.10"
  }
 },
 "nbformat": 4,
 "nbformat_minor": 5
}
