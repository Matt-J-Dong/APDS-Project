{
 "cells": [
  {
   "cell_type": "code",
   "metadata": {
    "ExecuteTime": {
     "end_time": "2025-02-24T22:06:09.543687Z",
     "start_time": "2025-02-24T22:06:08.588570Z"
    }
   },
   "source": [
    "import requests\n",
    "import pandas as pd\n",
    "from datetime import datetime\n",
    "\n",
    "# Define API key and base URL\n",
    "API_KEY = \"curufdpr01qt2nchb820curufdpr01qt2nchb82g\"  # Replace with your actual Finnhub API key\n",
    "BASE_URL = \"https://finnhub.io/api/v1\"\n",
    "\n",
    "def get_company_news(symbol, from_date, to_date):\n",
    "    \"\"\"\n",
    "    Fetch company news for a given stock symbol within a date range.\n",
    "    \"\"\"\n",
    "    endpoint = f\"{BASE_URL}/company-news\"\n",
    "    params = {\n",
    "        \"symbol\": symbol,\n",
    "        \"from\": from_date,\n",
    "        \"to\": to_date,\n",
    "        \"token\": API_KEY\n",
    "    }\n",
    "    response = requests.get(endpoint, params=params)\n",
    "    \n",
    "    if response.status_code == 200:\n",
    "        return response.json()\n",
    "    else:\n",
    "        print(\"Error fetching data:\", response.status_code)\n",
    "        return []\n"
   ],
   "outputs": [],
   "execution_count": 1
  },
  {
   "cell_type": "code",
   "metadata": {
    "ExecuteTime": {
     "end_time": "2025-02-24T22:21:47.272572Z",
     "start_time": "2025-02-24T22:21:47.255959Z"
    }
   },
   "source": [
    "import pandas as pd\n",
    "from datetime import datetime\n",
    "\n",
    "def save_news_to_csv(symbol, from_date, to_date, output_file):\n",
    "    \"\"\"\n",
    "    Fetches news data and saves it to a CSV file with two columns: 'Time Data' and 'Headline'.\n",
    "    'headline' and 'summary' from the response are merged into 'Headline'.\n",
    "    \"\"\"\n",
    "\n",
    "    news_data = get_company_news(symbol, from_date, to_date)\n",
    "\n",
    "    if not news_data:\n",
    "        print(\"No news data found.\")\n",
    "        return\n",
    "\n",
    "    # Extract relevant information\n",
    "    formatted_data = []\n",
    "    for news in news_data:\n",
    "        headline = news.get(\"headline\", \"\")\n",
    "        summary = news.get(\"summary\", \"\")\n",
    "        # Merge 'headline' and 'summary'\n",
    "        headline_summary = f\"{headline} - {summary}\" if summary else headline  \n",
    "\n",
    "        # Convert UNIX time to ISO 8601 with trailing 'Z'\n",
    "        if \"datetime\" in news:\n",
    "            iso8601_time = datetime.utcfromtimestamp(news[\"datetime\"]).strftime('%Y-%m-%dT%H:%M:%SZ')\n",
    "        else:\n",
    "            iso8601_time = None\n",
    "\n",
    "        formatted_data.append({\n",
    "            \"Time Data\": iso8601_time,\n",
    "            \"Headline\": headline_summary\n",
    "        })\n",
    "\n",
    "    # Create DataFrame\n",
    "    df = pd.DataFrame(formatted_data)\n",
    "\n",
    "    # Save to CSV\n",
    "    df.to_csv(output_file, index=False)\n",
    "    print(f\"News data saved to {output_file}\")\n"
   ],
   "outputs": [],
   "execution_count": 9
  },
  {
   "cell_type": "code",
   "metadata": {
    "ExecuteTime": {
     "end_time": "2025-02-24T22:21:55.965047Z",
     "start_time": "2025-02-24T22:21:55.838784Z"
    }
   },
   "source": [
    "from datetime import date\n",
    "\n",
    "# Example Usage\n",
    "symbol = \"AAPL\"  # Example: Apple Inc.\n",
    "from_date = \"2024-01-01\"\n",
    "to_date = date.today()\n",
    "\n",
    "save_news_to_csv(symbol, from_date, to_date, output_file=\"finnhub_AAPL2.csv\")"
   ],
   "outputs": [
    {
     "name": "stdout",
     "output_type": "stream",
     "text": [
      "News data saved to finnhub_AAPL2.csv\n"
     ]
    }
   ],
   "execution_count": 10
  },
  {
   "metadata": {},
   "cell_type": "code",
   "outputs": [],
   "execution_count": null,
   "source": ""
  }
 ],
 "metadata": {
  "kernelspec": {
   "display_name": "advpy",
   "language": "python",
   "name": "python3"
  },
  "language_info": {
   "codemirror_mode": {
    "name": "ipython",
    "version": 3
   },
   "file_extension": ".py",
   "mimetype": "text/x-python",
   "name": "python",
   "nbconvert_exporter": "python",
   "pygments_lexer": "ipython3",
   "version": "3.8.20"
  }
 },
 "nbformat": 4,
 "nbformat_minor": 2
}
