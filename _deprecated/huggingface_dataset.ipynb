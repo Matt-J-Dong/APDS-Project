{
 "cells": [
  {
   "cell_type": "code",
   "execution_count": 7,
   "metadata": {},
   "outputs": [],
   "source": [
    "from datasets import load_dataset\n",
    "import pandas as pd\n",
    "\n",
    "# Load dataset in streaming mode\n",
    "dataset = load_dataset(\"TimKoornstra/synthetic-financial-tweets-sentiment\", split=\"train\", streaming=True)\n",
    "\n",
    "# Convert streaming dataset to DataFrame and save as CSV\n",
    "df = pd.DataFrame(dataset)"
   ]
  },
  {
   "cell_type": "code",
   "execution_count": 8,
   "metadata": {},
   "outputs": [
    {
     "name": "stdout",
     "output_type": "stream",
     "text": [
      "Dataset saved as financial_tweets_sentiment.csv\n"
     ]
    }
   ],
   "source": [
    "# Save to CSV\n",
    "csv_filename = \"financial_tweets_sentiment.csv\"\n",
    "df.to_csv(csv_filename, index=False)\n",
    "\n",
    "print(f\"Dataset saved as {csv_filename}\")"
   ]
  },
  {
   "cell_type": "code",
   "execution_count": 9,
   "metadata": {},
   "outputs": [
    {
     "name": "stdout",
     "output_type": "stream",
     "text": [
      "Updated CSV saved as updated_financial_tweets_sentiment.csv\n"
     ]
    }
   ],
   "source": [
    "import pandas as pd\n",
    "\n",
    "# Load the CSV file\n",
    "file_path = \"financial_tweets_sentiment.csv\"  # Change this to your actual file path\n",
    "df = pd.read_csv(file_path)\n",
    "\n",
    "# Replace values in the second column (assumed to be sentiment column)\n",
    "df.iloc[:, 1] = df.iloc[:, 1].replace({2: 'negative', 1: 'positive', 0: 'neutral'})\n",
    "\n",
    "# Save the updated file\n",
    "updated_file_path = \"updated_financial_tweets_sentiment.csv\"\n",
    "df.to_csv(updated_file_path, index=False)\n",
    "\n",
    "print(f\"Updated CSV saved as {updated_file_path}\")"
   ]
  },
  {
   "cell_type": "code",
   "execution_count": null,
   "metadata": {},
   "outputs": [],
   "source": []
  }
 ],
 "metadata": {
  "kernelspec": {
   "display_name": "advpy",
   "language": "python",
   "name": "python3"
  },
  "language_info": {
   "codemirror_mode": {
    "name": "ipython",
    "version": 3
   },
   "file_extension": ".py",
   "mimetype": "text/x-python",
   "name": "python",
   "nbconvert_exporter": "python",
   "pygments_lexer": "ipython3",
   "version": "3.8.20"
  }
 },
 "nbformat": 4,
 "nbformat_minor": 2
}
