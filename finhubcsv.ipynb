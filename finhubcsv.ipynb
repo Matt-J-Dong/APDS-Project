{
 "cells": [
  {
   "cell_type": "code",
   "execution_count": 31,
   "metadata": {},
   "outputs": [],
   "source": [
    "import requests\n",
    "import pandas as pd\n",
    "from datetime import datetime\n",
    "\n",
    "# Define API key and base URL\n",
    "API_KEY = \"curufdpr01qt2nchb820curufdpr01qt2nchb82g\"  # Replace with your actual Finnhub API key\n",
    "BASE_URL = \"https://finnhub.io/api/v1\"\n",
    "\n",
    "def get_company_news(symbol, from_date, to_date):\n",
    "    \"\"\"\n",
    "    Fetch company news for a given stock symbol within a date range.\n",
    "    \"\"\"\n",
    "    endpoint = f\"{BASE_URL}/company-news\"\n",
    "    params = {\n",
    "        \"symbol\": symbol,\n",
    "        \"from\": from_date,\n",
    "        \"to\": to_date,\n",
    "        \"token\": API_KEY\n",
    "    }\n",
    "    response = requests.get(endpoint, params=params)\n",
    "    \n",
    "    if response.status_code == 200:\n",
    "        return response.json()\n",
    "    else:\n",
    "        print(\"Error fetching data:\", response.status_code)\n",
    "        return []\n"
   ]
  },
  {
   "cell_type": "code",
   "execution_count": 32,
   "metadata": {},
   "outputs": [],
   "source": [
    "def save_news_to_csv(symbol, from_date, to_date, output_file=\"company_news.csv\"):\n",
    "    \"\"\"\n",
    "    Fetches news data and saves it to a CSV file with selected columns.\n",
    "    The 'headline' and 'summary' columns are merged into 'headline_summary'.\n",
    "    \"\"\"\n",
    "    news_data = get_company_news(symbol, from_date, to_date)\n",
    "\n",
    "    if not news_data:\n",
    "        print(\"No news data found.\")\n",
    "        return\n",
    "\n",
    "    # Extract relevant information\n",
    "    formatted_data = []\n",
    "    for news in news_data:\n",
    "        headline = news.get(\"headline\", \"\")\n",
    "        summary = news.get(\"summary\", \"\")\n",
    "        headline_summary = f\"{headline} - {summary}\" if summary else headline  # Merging headline and summary\n",
    "\n",
    "        formatted_data.append({\n",
    "            \"timedata\": datetime.utcfromtimestamp(news[\"datetime\"]).strftime('%Y-%m-%d %H:%M:%S') if \"datetime\" in news else None,\n",
    "            \"related\": news.get(\"related\", \"\"),\n",
    "            \"headline\": headline_summary\n",
    "        })\n",
    "\n",
    "    # Convert to DataFrame\n",
    "    df = pd.DataFrame(formatted_data)\n",
    "\n",
    "    # Save to CSV\n",
    "    df.to_csv(output_file, index=False)\n",
    "    print(f\"News data saved to {output_file}\")"
   ]
  },
  {
   "cell_type": "code",
   "execution_count": 33,
   "metadata": {},
   "outputs": [
    {
     "name": "stdout",
     "output_type": "stream",
     "text": [
      "News data saved to company_news.csv\n"
     ]
    }
   ],
   "source": [
    "# Example Usage\n",
    "symbol = \"AAPL\"  # Example: Apple Inc.\n",
    "from_date = \"2025-01-01\"\n",
    "to_date = \"2025-02-01\"\n",
    "\n",
    "save_news_to_csv(symbol, from_date, to_date)"
   ]
  }
 ],
 "metadata": {
  "kernelspec": {
   "display_name": "advpy",
   "language": "python",
   "name": "python3"
  },
  "language_info": {
   "codemirror_mode": {
    "name": "ipython",
    "version": 3
   },
   "file_extension": ".py",
   "mimetype": "text/x-python",
   "name": "python",
   "nbconvert_exporter": "python",
   "pygments_lexer": "ipython3",
   "version": "3.8.20"
  }
 },
 "nbformat": 4,
 "nbformat_minor": 2
}
