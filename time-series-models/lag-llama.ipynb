{
 "cells": [
  {
   "cell_type": "code",
   "execution_count": 1,
   "id": "1faa6f70-e41a-4079-a9d3-2e7f17ab9f7e",
   "metadata": {
    "tags": []
   },
   "outputs": [],
   "source": [
    "# !git clone -b update-gluonts https://github.com/time-series-foundation-models/lag-llama/\n",
    "# !pip install -U -r ./lag-llama/requirements.txt \n",
    "# !huggingface-cli download time-series-foundation-models/Lag-Llama lag-llama.ckpt --local-dir ./lag-llama\n",
    "# !pip install gluonts==0.14.4"
   ]
  },
  {
   "cell_type": "code",
   "execution_count": 2,
   "id": "23f48e8a-4b05-49e3-a194-16e496501dfa",
   "metadata": {},
   "outputs": [],
   "source": [
    "import os \n",
    "import sys"
   ]
  },
  {
   "cell_type": "code",
   "execution_count": 3,
   "id": "fbcd6d3a-8587-4ad6-b28f-61974372ad68",
   "metadata": {
    "tags": []
   },
   "outputs": [],
   "source": [
    "sys.path.append(\"./time-series-models/lag-llama\")\n",
    "sys.path.append(\"./lag-llama\")"
   ]
  },
  {
   "cell_type": "code",
   "execution_count": 4,
   "id": "603f6f75-dfa2-4bfd-9110-7f2f580c7a3f",
   "metadata": {
    "tags": []
   },
   "outputs": [],
   "source": [
    "from itertools import islice\n",
    "\n",
    "from matplotlib import pyplot as plt\n",
    "import matplotlib.dates as mdates\n",
    "\n",
    "import torch\n",
    "from gluonts.evaluation import make_evaluation_predictions, Evaluator\n",
    "from gluonts.dataset.repository.datasets import get_dataset\n",
    "\n",
    "from gluonts.dataset.pandas import PandasDataset\n",
    "import pandas as pd\n",
    "\n",
    "from lag_llama.gluon.estimator import LagLlamaEstimator\n",
    "\n",
    "import yfinance as yf\n",
    "import numpy as np\n",
    "from pprint import pprint \n",
    "from datetime import date"
   ]
  },
  {
   "cell_type": "code",
   "execution_count": 5,
   "id": "180beb8f-1432-437c-bfc9-7c57eb2a751a",
   "metadata": {
    "tags": []
   },
   "outputs": [],
   "source": [
    "import sys\n",
    "from types import ModuleType\n",
    "\n",
    "# Create dummy module hierarchy\n",
    "def create_dummy_module(module_path):\n",
    "    \"\"\"\n",
    "    Create a dummy module hierarchy for the given path.\n",
    "    Returns the leaf module.\n",
    "    \"\"\"\n",
    "    parts = module_path.split('.')\n",
    "    current = ''\n",
    "    parent = None\n",
    "\n",
    "    for part in parts:\n",
    "        current = current + '.' + part if current else part\n",
    "        if current not in sys.modules:\n",
    "            module = ModuleType(current)\n",
    "            sys.modules[current] = module\n",
    "            if parent:\n",
    "                setattr(sys.modules[parent], part, module)\n",
    "        parent = current\n",
    "\n",
    "    return sys.modules[module_path]\n",
    "\n",
    "# Create the dummy gluonts module hierarchy\n",
    "gluonts_module = create_dummy_module('gluonts.torch.modules.loss')\n",
    "\n",
    "# Create dummy classes for the specific loss functions\n",
    "class DistributionLoss:\n",
    "    def __init__(self, *args, **kwargs):\n",
    "        pass\n",
    "\n",
    "    def __call__(self, *args, **kwargs):\n",
    "        return 0.0\n",
    "\n",
    "    def __getattr__(self, name):\n",
    "        return lambda *args, **kwargs: None\n",
    "\n",
    "class NegativeLogLikelihood:\n",
    "    def __init__(self, *args, **kwargs):\n",
    "        pass\n",
    "\n",
    "    def __call__(self, *args, **kwargs):\n",
    "        return 0.0\n",
    "\n",
    "    def __getattr__(self, name):\n",
    "        return lambda *args, **kwargs: None\n",
    "\n",
    "# Add the specific classes to the module\n",
    "gluonts_module.DistributionLoss = DistributionLoss\n",
    "gluonts_module.NegativeLogLikelihood = NegativeLogLikelihood"
   ]
  },
  {
   "cell_type": "code",
   "execution_count": 6,
   "id": "0c599dc8-000e-45df-b832-fdd843cb3cb5",
   "metadata": {
    "tags": []
   },
   "outputs": [],
   "source": [
    "def get_lag_llama_predictions(dataset, prediction_length, device, context_length=32, use_rope_scaling=False, num_samples=100):\n",
    "    # Use this if we have a GPU:\n",
    "    # ckpt = torch.load(\"./time-series-models/lag-llama.ckpt\", map_location=device) # Uses GPU since in this Colab we use a GPU.\n",
    "    \n",
    "    # Assume we use CPU:\n",
    "    ckpt = torch.load(\"./lag-llama.ckpt\", map_location=device, weights_only=False)\n",
    "    estimator_args = ckpt[\"hyper_parameters\"][\"model_kwargs\"]\n",
    "\n",
    "    rope_scaling_arguments = {\n",
    "        \"type\": \"linear\",\n",
    "        \"factor\": max(1.0, (context_length + prediction_length) / estimator_args[\"context_length\"]),\n",
    "    }\n",
    "\n",
    "    estimator = LagLlamaEstimator(\n",
    "        ckpt_path=\"./lag-llama.ckpt\",\n",
    "        prediction_length=prediction_length,\n",
    "        context_length=context_length, # Lag-Llama was trained with a context length of 32, but can work with any context length\n",
    "\n",
    "        # estimator args\n",
    "        input_size=estimator_args[\"input_size\"],\n",
    "        n_layer=estimator_args[\"n_layer\"],\n",
    "        n_embd_per_head=estimator_args[\"n_embd_per_head\"],\n",
    "        n_head=estimator_args[\"n_head\"],\n",
    "        scaling=estimator_args[\"scaling\"],\n",
    "        time_feat=estimator_args[\"time_feat\"],\n",
    "        rope_scaling=rope_scaling_arguments if use_rope_scaling else None,\n",
    "\n",
    "        batch_size=1,\n",
    "        num_parallel_samples=100,\n",
    "        device=device,\n",
    "    )\n",
    "\n",
    "    lightning_module = estimator.create_lightning_module()\n",
    "    transformation = estimator.create_transformation()\n",
    "    predictor = estimator.create_predictor(transformation, lightning_module)\n",
    "\n",
    "    forecast_it, ts_it = make_evaluation_predictions(\n",
    "        dataset=dataset,\n",
    "        predictor=predictor,\n",
    "        num_samples=num_samples\n",
    "    )\n",
    "    forecasts = list(forecast_it)\n",
    "    tss = list(ts_it)\n",
    "\n",
    "    return forecasts, tss"
   ]
  },
  {
   "cell_type": "code",
   "execution_count": 7,
   "id": "bb4a89c2-a346-4fe0-bf26-8403dcba96f4",
   "metadata": {
    "tags": []
   },
   "outputs": [
    {
     "name": "stdout",
     "output_type": "stream",
     "text": [
      "Number of target values per item id: 240\n",
      "List of all unique item_id: ['A' 'B' 'C' 'D' 'E' 'F' 'G' 'H' 'I' 'J']\n",
      "            target\n",
      "count  2400.000000\n",
      "mean     -0.000331\n",
      "std       1.021791\n",
      "min      -2.629900\n",
      "25%      -0.586550\n",
      "50%       0.104150\n",
      "75%       0.705000\n",
      "max       2.585700\n",
      "target     float64\n",
      "item_id     object\n",
      "dtype: object\n",
      "<class 'pandas.core.indexes.datetimes.DatetimeIndex'>\n"
     ]
    },
    {
     "data": {
      "text/html": [
       "<div>\n",
       "<style scoped>\n",
       "    .dataframe tbody tr th:only-of-type {\n",
       "        vertical-align: middle;\n",
       "    }\n",
       "\n",
       "    .dataframe tbody tr th {\n",
       "        vertical-align: top;\n",
       "    }\n",
       "\n",
       "    .dataframe thead th {\n",
       "        text-align: right;\n",
       "    }\n",
       "</style>\n",
       "<table border=\"1\" class=\"dataframe\">\n",
       "  <thead>\n",
       "    <tr style=\"text-align: right;\">\n",
       "      <th></th>\n",
       "      <th>target</th>\n",
       "      <th>item_id</th>\n",
       "    </tr>\n",
       "  </thead>\n",
       "  <tbody>\n",
       "    <tr>\n",
       "      <th>2021-01-01 00:00:00</th>\n",
       "      <td>-1.3378</td>\n",
       "      <td>A</td>\n",
       "    </tr>\n",
       "    <tr>\n",
       "      <th>2021-01-01 01:00:00</th>\n",
       "      <td>-1.6111</td>\n",
       "      <td>A</td>\n",
       "    </tr>\n",
       "    <tr>\n",
       "      <th>2021-01-01 02:00:00</th>\n",
       "      <td>-1.9259</td>\n",
       "      <td>A</td>\n",
       "    </tr>\n",
       "    <tr>\n",
       "      <th>2021-01-01 03:00:00</th>\n",
       "      <td>-1.9184</td>\n",
       "      <td>A</td>\n",
       "    </tr>\n",
       "    <tr>\n",
       "      <th>2021-01-01 04:00:00</th>\n",
       "      <td>-1.9168</td>\n",
       "      <td>A</td>\n",
       "    </tr>\n",
       "    <tr>\n",
       "      <th>...</th>\n",
       "      <td>...</td>\n",
       "      <td>...</td>\n",
       "    </tr>\n",
       "    <tr>\n",
       "      <th>2021-01-10 19:00:00</th>\n",
       "      <td>1.2349</td>\n",
       "      <td>J</td>\n",
       "    </tr>\n",
       "    <tr>\n",
       "      <th>2021-01-10 20:00:00</th>\n",
       "      <td>1.1525</td>\n",
       "      <td>J</td>\n",
       "    </tr>\n",
       "    <tr>\n",
       "      <th>2021-01-10 21:00:00</th>\n",
       "      <td>1.1485</td>\n",
       "      <td>J</td>\n",
       "    </tr>\n",
       "    <tr>\n",
       "      <th>2021-01-10 22:00:00</th>\n",
       "      <td>1.3248</td>\n",
       "      <td>J</td>\n",
       "    </tr>\n",
       "    <tr>\n",
       "      <th>2021-01-10 23:00:00</th>\n",
       "      <td>1.1657</td>\n",
       "      <td>J</td>\n",
       "    </tr>\n",
       "  </tbody>\n",
       "</table>\n",
       "<p>2400 rows × 2 columns</p>\n",
       "</div>"
      ],
      "text/plain": [
       "                     target item_id\n",
       "2021-01-01 00:00:00 -1.3378       A\n",
       "2021-01-01 01:00:00 -1.6111       A\n",
       "2021-01-01 02:00:00 -1.9259       A\n",
       "2021-01-01 03:00:00 -1.9184       A\n",
       "2021-01-01 04:00:00 -1.9168       A\n",
       "...                     ...     ...\n",
       "2021-01-10 19:00:00  1.2349       J\n",
       "2021-01-10 20:00:00  1.1525       J\n",
       "2021-01-10 21:00:00  1.1485       J\n",
       "2021-01-10 22:00:00  1.3248       J\n",
       "2021-01-10 23:00:00  1.1657       J\n",
       "\n",
       "[2400 rows x 2 columns]"
      ]
     },
     "metadata": {},
     "output_type": "display_data"
    }
   ],
   "source": [
    "url = (\n",
    "    \"https://gist.githubusercontent.com/rsnirwan/a8b424085c9f44ef2598da74ce43e7a3\"\n",
    "    \"/raw/b6fdef21fe1f654787fa0493846c546b7f9c4df2/ts_long.csv\"\n",
    ")\n",
    "df2 = pd.read_csv(url, index_col=0, parse_dates=True)\n",
    "#df.head()\n",
    "print(f\"Number of target values per item id: {len(df2[df2['item_id'] == 'A'])}\")\n",
    "print(f\"List of all unique item_id: {df2['item_id'].unique()}\")\n",
    "print(df2.describe())\n",
    "print(df2.dtypes)\n",
    "print(type(df2.index))\n",
    "display(df2)\n",
    "df = df2"
   ]
  },
  {
   "cell_type": "code",
   "execution_count": 8,
   "id": "85de9eb0-53b5-49e7-b396-a412737d8b08",
   "metadata": {
    "tags": []
   },
   "outputs": [
    {
     "name": "stdout",
     "output_type": "stream",
     "text": [
      "Frequency inferred: B\n"
     ]
    },
    {
     "data": {
      "text/html": [
       "<div>\n",
       "<style scoped>\n",
       "    .dataframe tbody tr th:only-of-type {\n",
       "        vertical-align: middle;\n",
       "    }\n",
       "\n",
       "    .dataframe tbody tr th {\n",
       "        vertical-align: top;\n",
       "    }\n",
       "\n",
       "    .dataframe thead th {\n",
       "        text-align: right;\n",
       "    }\n",
       "</style>\n",
       "<table border=\"1\" class=\"dataframe\">\n",
       "  <thead>\n",
       "    <tr style=\"text-align: right;\">\n",
       "      <th></th>\n",
       "      <th>item_id</th>\n",
       "      <th>target</th>\n",
       "    </tr>\n",
       "    <tr>\n",
       "      <th>date</th>\n",
       "      <th></th>\n",
       "      <th></th>\n",
       "    </tr>\n",
       "  </thead>\n",
       "  <tbody>\n",
       "    <tr>\n",
       "      <th>2024-09-25</th>\n",
       "      <td>close</td>\n",
       "      <td>221.23</td>\n",
       "    </tr>\n",
       "    <tr>\n",
       "      <th>2024-09-26</th>\n",
       "      <td>close</td>\n",
       "      <td>223.43</td>\n",
       "    </tr>\n",
       "    <tr>\n",
       "      <th>2024-09-27</th>\n",
       "      <td>close</td>\n",
       "      <td>220.84</td>\n",
       "    </tr>\n",
       "    <tr>\n",
       "      <th>2024-09-30</th>\n",
       "      <td>close</td>\n",
       "      <td>221.08</td>\n",
       "    </tr>\n",
       "    <tr>\n",
       "      <th>2024-10-01</th>\n",
       "      <td>close</td>\n",
       "      <td>219.35</td>\n",
       "    </tr>\n",
       "    <tr>\n",
       "      <th>...</th>\n",
       "      <td>...</td>\n",
       "      <td>...</td>\n",
       "    </tr>\n",
       "    <tr>\n",
       "      <th>2025-02-13</th>\n",
       "      <td>close</td>\n",
       "      <td>259.19</td>\n",
       "    </tr>\n",
       "    <tr>\n",
       "      <th>2025-02-14</th>\n",
       "      <td>close</td>\n",
       "      <td>261.28</td>\n",
       "    </tr>\n",
       "    <tr>\n",
       "      <th>2025-02-17</th>\n",
       "      <td>close</td>\n",
       "      <td>261.28</td>\n",
       "    </tr>\n",
       "    <tr>\n",
       "      <th>2025-02-18</th>\n",
       "      <td>close</td>\n",
       "      <td>263.07</td>\n",
       "    </tr>\n",
       "    <tr>\n",
       "      <th>2025-02-19</th>\n",
       "      <td>close</td>\n",
       "      <td>264.32</td>\n",
       "    </tr>\n",
       "  </tbody>\n",
       "</table>\n",
       "<p>106 rows × 2 columns</p>\n",
       "</div>"
      ],
      "text/plain": [
       "           item_id  target\n",
       "date                      \n",
       "2024-09-25   close  221.23\n",
       "2024-09-26   close  223.43\n",
       "2024-09-27   close  220.84\n",
       "2024-09-30   close  221.08\n",
       "2024-10-01   close  219.35\n",
       "...            ...     ...\n",
       "2025-02-13   close  259.19\n",
       "2025-02-14   close  261.28\n",
       "2025-02-17   close  261.28\n",
       "2025-02-18   close  263.07\n",
       "2025-02-19   close  264.32\n",
       "\n",
       "[106 rows x 2 columns]"
      ]
     },
     "metadata": {},
     "output_type": "display_data"
    }
   ],
   "source": [
    "# ticker = yf.Ticker(\"AAPL\")\n",
    "# data_period = \"240d\"\n",
    "# \n",
    "# # Fetch historical market data\n",
    "# df = ticker.history(period=data_period)\n",
    "# df.head()\n",
    "\n",
    "\n",
    "# We need to propagate the item_id column with {Open, High, Low, Close, Volume}\n",
    "# Where each item_id will its set of indexed day date, and its associated price\n",
    "import requests\n",
    "import pandas as pd\n",
    "import json\n",
    "\n",
    "# replace the \"demo\" apikey below with your own key from https://www.alphavantage.co/support/#api-key\n",
    "url = 'https://www.alphavantage.co/query?function=TIME_SERIES_DAILY&symbol=IBM&apikey=demo'\n",
    "r = requests.get(url)\n",
    "data = r.json()\n",
    "\n",
    "\n",
    "# JSON-like dictionary provided by the user\n",
    "\n",
    "# Extract the \"Time Series (Daily)\" section\n",
    "time_series = data[\"Time Series (Daily)\"]\n",
    "\n",
    "# Convert to DataFrame with the date as the index\n",
    "df3 = pd.DataFrame.from_dict(time_series, orient='index')\n",
    "\n",
    "# Rename columns for clarity\n",
    "df3.rename(columns={\n",
    "    \"1. open\": \"open\",\n",
    "    \"2. high\": \"high\",\n",
    "    \"3. low\": \"low\",\n",
    "    \"4. close\": \"close\",\n",
    "    \"5. volume\": \"volume\"\n",
    "}, inplace=True)\n",
    "\n",
    "# Convert data types to appropriate numerical formats\n",
    "df3 = df3.astype({\n",
    "    \"open\": \"float\",\n",
    "    \"high\": \"float\",\n",
    "    \"low\": \"float\",\n",
    "    \"close\": \"float\",\n",
    "    \"volume\": \"int\"\n",
    "})\n",
    "\n",
    "df3 = df3.dropna(subset=['close'])  # Ensure 'close' has no NaNs\n",
    "\n",
    "df3.index = pd.to_datetime(df3.index, errors='coerce')\n",
    "df3.sort_index(inplace=True)\n",
    "\n",
    "df_reset = df3.reset_index().rename(columns={'index': 'date'})\n",
    "df_melted = df_reset.melt(id_vars=[\"date\"], var_name=\"item_id\", value_name=\"target\")\n",
    "\n",
    "df_melted['date'] = pd.to_datetime(df_melted['date'], errors='coerce')\n",
    "df_melted = df_melted.dropna(subset=['date'])\n",
    "df_melted.set_index(\"date\", inplace=True)\n",
    "\n",
    "df_melted = df_melted[df_melted['item_id'] == 'close']\n",
    "\n",
    "df_melted = df_melted[~df_melted.index.duplicated(keep='first')]\n",
    "df_melted = df_melted.asfreq('B', method='pad')\n",
    "\n",
    "freq = pd.infer_freq(df_melted.index)\n",
    "print(f\"Frequency inferred: {freq}\")\n",
    "display(df_melted)"
   ]
  },
  {
   "cell_type": "code",
   "execution_count": 9,
   "id": "bfbaf564-e557-4dab-a2da-15ceff86dd24",
   "metadata": {},
   "outputs": [],
   "source": [
    "df = df_melted"
   ]
  },
  {
   "cell_type": "code",
   "execution_count": 10,
   "id": "f4a11996-699a-43ed-9dc2-a963013e2cff",
   "metadata": {
    "tags": []
   },
   "outputs": [],
   "source": [
    "# set numerical columns as float32\n",
    "for col in df.columns:\n",
    "    # Check if column is not of string type\n",
    "    if df[col].dtype != 'object' and pd.api.types.is_string_dtype(df[col]) == False:\n",
    "        df[col] = df[col].astype('float32')\n",
    "\n",
    "# Create the Pandas\n",
    "dataset = PandasDataset.from_long_dataframe(df, target=\"target\", item_id=\"item_id\")\n",
    "\n",
    "backtest_dataset = dataset\n",
    "# prediction_length = 24  # Define your prediction length. We use 24 here since the data is of hourly frequency\n",
    "\n",
    "prediction_length = 24 # We predict just the next day?\n",
    "\n",
    "num_samples = 350 # number of samples sampled from the probability distribution for each timestep\n",
    "# device = torch.device(\"cuda:0\") # You can switch this to CPU or other GPUs if you'd like, depending on your environment\n",
    "\n",
    "# Lets go CPU\n",
    "device = torch.device(\"cpu\") "
   ]
  },
  {
   "cell_type": "code",
   "execution_count": 11,
   "id": "06faf8ec-5f07-47e4-b5c1-44d21e2b178b",
   "metadata": {
    "tags": []
   },
   "outputs": [
    {
     "name": "stderr",
     "output_type": "stream",
     "text": [
      "/Users/lajiet/anaconda3/lib/python3.11/site-packages/gluonts/dataset/pandas.py:174: FutureWarning: PeriodDtype[B] is deprecated and will be removed in a future version. Use a DatetimeIndex with freq='B' instead\n",
      "  df = df.to_period(freq=self.freq)\n",
      "/Users/lajiet/anaconda3/lib/python3.11/site-packages/gluonts/dataset/split.py:181: FutureWarning: Period with BDay freq is deprecated and will be removed in a future version. Use a DatetimeIndex with BDay freq instead.\n",
      "  sliced_entry[FieldName.START] += offset\n",
      "/Users/lajiet/anaconda3/lib/python3.11/site-packages/gluonts/transform/feature.py:364: FutureWarning: Period with BDay freq is deprecated and will be removed in a future version. Use a DatetimeIndex with BDay freq instead.\n",
      "  index = pd.period_range(start, periods=length, freq=start.freq)\n",
      "/Users/lajiet/anaconda3/lib/python3.11/site-packages/gluonts/transform/feature.py:364: FutureWarning: PeriodDtype[B] is deprecated and will be removed in a future version. Use a DatetimeIndex with freq='B' instead\n",
      "  index = pd.period_range(start, periods=length, freq=start.freq)\n",
      "/Users/lajiet/anaconda3/lib/python3.11/site-packages/gluonts/transform/split.py:150: FutureWarning: Period with BDay freq is deprecated and will be removed in a future version. Use a DatetimeIndex with BDay freq instead.\n",
      "  entry[self.start_field] + idx + self.lead_time\n",
      "/Users/lajiet/anaconda3/lib/python3.11/site-packages/gluonts/dataset/pandas.py:174: FutureWarning: PeriodDtype[B] is deprecated and will be removed in a future version. Use a DatetimeIndex with freq='B' instead\n",
      "  df = df.to_period(freq=self.freq)\n",
      "/Users/lajiet/anaconda3/lib/python3.11/site-packages/gluonts/dataset/split.py:181: FutureWarning: Period with BDay freq is deprecated and will be removed in a future version. Use a DatetimeIndex with BDay freq instead.\n",
      "  sliced_entry[FieldName.START] += offset\n",
      "/Users/lajiet/anaconda3/lib/python3.11/site-packages/gluonts/dataset/util.py:29: FutureWarning: Period with BDay freq is deprecated and will be removed in a future version. Use a DatetimeIndex with BDay freq instead.\n",
      "  return pd.period_range(\n",
      "/Users/lajiet/anaconda3/lib/python3.11/site-packages/gluonts/dataset/util.py:29: FutureWarning: PeriodDtype[B] is deprecated and will be removed in a future version. Use a DatetimeIndex with freq='B' instead\n",
      "  return pd.period_range(\n"
     ]
    }
   ],
   "source": [
    "# Zero shot inference\n",
    "forecasts, tss = get_lag_llama_predictions(backtest_dataset, prediction_length, device, num_samples)\n",
    "\n",
    "# We could go in "
   ]
  },
  {
   "cell_type": "code",
   "execution_count": 12,
   "id": "50c032aa-7c29-412a-a81e-ce3202d63e88",
   "metadata": {
    "tags": []
   },
   "outputs": [
    {
     "name": "stdout",
     "output_type": "stream",
     "text": [
      "1\n",
      "gluonts.model.forecast.SampleForecast(info=None, item_id='close', samples=array([[ 73.30707 , 123.22991 , 188.62161 , ..., 234.51706 , 228.43953 ,\n",
      "        119.583145],\n",
      "       [115.631134, 231.6977  , 199.95563 , ..., 225.6812  , 212.02869 ,\n",
      "        227.39175 ],\n",
      "       [263.82138 , 230.07298 , 185.01678 , ..., 141.73596 , 268.42908 ,\n",
      "        254.21024 ],\n",
      "       ...,\n",
      "       [352.62317 , 352.20013 , 257.8499  , ..., 176.01814 , 250.00754 ,\n",
      "        195.36343 ],\n",
      "       [105.991165, 139.5758  , 169.38564 , ..., 171.39334 , 229.86812 ,\n",
      "        160.74481 ],\n",
      "       [130.64954 , 233.2165  , 282.56165 , ...,  83.13417 , 221.03752 ,\n",
      "        288.85635 ]], dtype=float32), start_date=Period('2025-01-17', 'B'))\n"
     ]
    }
   ],
   "source": [
    "print(len(forecasts))\n",
    "\n",
    "print(forecasts[0])"
   ]
  },
  {
   "cell_type": "code",
   "execution_count": 13,
   "id": "fb206f75-56b9-4821-ba01-2346f370f8bb",
   "metadata": {
    "tags": []
   },
   "outputs": [
    {
     "data": {
      "text/plain": [
       "(100, 24)"
      ]
     },
     "execution_count": 13,
     "metadata": {},
     "output_type": "execute_result"
    }
   ],
   "source": [
    "forecasts[0].samples.shape"
   ]
  },
  {
   "cell_type": "code",
   "execution_count": 14,
   "id": "31107e8b-c2d6-4038-99c7-55132abea818",
   "metadata": {
    "tags": []
   },
   "outputs": [
    {
     "name": "stderr",
     "output_type": "stream",
     "text": [
      "/var/folders/75/q92ms1g96zg7cy3q5zmjh2100000gn/T/ipykernel_37072/3725362289.py:9: FutureWarning: PeriodDtype[B] is deprecated and will be removed in a future version. Use a DatetimeIndex with freq='B' instead\n",
      "  plt.plot(ts[-4 * prediction_length:].to_timestamp(), label=\"target\", )\n",
      "/Users/lajiet/anaconda3/lib/python3.11/site-packages/gluonts/model/forecast.py:365: FutureWarning: Period with BDay freq is deprecated and will be removed in a future version. Use a DatetimeIndex with BDay freq instead.\n",
      "  self._index = pd.period_range(\n",
      "/Users/lajiet/anaconda3/lib/python3.11/site-packages/gluonts/model/forecast.py:365: FutureWarning: PeriodDtype[B] is deprecated and will be removed in a future version. Use a DatetimeIndex with freq='B' instead\n",
      "  self._index = pd.period_range(\n",
      "/Users/lajiet/anaconda3/lib/python3.11/site-packages/gluonts/model/forecast.py:328: FutureWarning: PeriodDtype[B] is deprecated and will be removed in a future version. Use a DatetimeIndex with freq='B' instead\n",
      "  self.index.to_timestamp(),\n",
      "/Users/lajiet/anaconda3/lib/python3.11/site-packages/gluonts/model/forecast.py:353: FutureWarning: PeriodDtype[B] is deprecated and will be removed in a future version. Use a DatetimeIndex with freq='B' instead\n",
      "  self.index.to_timestamp(),\n"
     ]
    },
    {
     "data": {
      "image/png": "[encoded data removed]",
      "text/plain": [
       "<Figure size 2000x1500 with 1 Axes>"
      ]
     },
     "metadata": {},
     "output_type": "display_data"
    }
   ],
   "source": [
    "plt.figure(figsize=(20, 15))\n",
    "date_formater = mdates.DateFormatter('%b, %d')\n",
    "plt.rcParams.update({'font.size': 15})\n",
    "\n",
    "# Iterate through the first 9 series, and plot the predicted samples\n",
    "for idx, (forecast, ts) in islice(enumerate(zip(forecasts, tss)), 9):\n",
    "    ax = plt.subplot(3, 3, idx+1)\n",
    "\n",
    "    plt.plot(ts[-4 * prediction_length:].to_timestamp(), label=\"target\", )\n",
    "    forecast.plot( color='g')\n",
    "    plt.xticks(rotation=60)\n",
    "    ax.xaxis.set_major_formatter(date_formater)\n",
    "    ax.set_title(forecast.item_id)\n",
    "\n",
    "plt.gcf().tight_layout()\n",
    "plt.legend()\n",
    "plt.show()"
   ]
  },
  {
   "cell_type": "code",
   "execution_count": 15,
   "id": "10b4b73c-a7e5-4e80-bd4a-c28d6a556147",
   "metadata": {
    "tags": []
   },
   "outputs": [
    {
     "name": "stdout",
     "output_type": "stream",
     "text": [
      "close\n",
      "(100, 24)\n",
      "[[ 73.30707  123.22991  188.62161  ... 234.51706  228.43953  119.583145]\n",
      " [115.631134 231.6977   199.95563  ... 225.6812   212.02869  227.39175 ]\n",
      " [263.82138  230.07298  185.01678  ... 141.73596  268.42908  254.21024 ]\n",
      " ...\n",
      " [352.62317  352.20013  257.8499   ... 176.01814  250.00754  195.36343 ]\n",
      " [105.991165 139.5758   169.38564  ... 171.39334  229.86812  160.74481 ]\n",
      " [130.64954  233.2165   282.56165  ...  83.13417  221.03752  288.85635 ]]\n"
     ]
    }
   ],
   "source": [
    "for idx, (forecast, ts) in islice(enumerate(zip(forecasts, tss)), 9):\n",
    "    print(forecast.item_id)\n",
    "    # What is 100? (the model sample 100 samples from the predictive distribution) Might need to fit a KDE\n",
    "    # What is 24?: (next 24 hours), for us if we use days, we might want to set to 1 day\n",
    "    print(forecast.samples.shape) \n",
    "    print(forecast.samples)"
   ]
  },
  {
   "cell_type": "code",
   "execution_count": null,
   "id": "bcafee74-f5a4-4aa3-9554-72a8205fbe33",
   "metadata": {},
   "outputs": [],
   "source": [
    "# Still testing ... "
   ]
  },
  {
   "cell_type": "code",
   "execution_count": null,
   "id": "cf7cccd2-3125-4944-9a9f-c694f5e7312e",
   "metadata": {},
   "outputs": [],
   "source": []
  }
 ],
 "metadata": {
  "kernelspec": {
   "display_name": "quant-env",
   "language": "python",
   "name": "quant-env"
  },
  "language_info": {
   "codemirror_mode": {
    "name": "ipython",
    "version": 3
   },
   "file_extension": ".py",
   "mimetype": "text/x-python",
   "name": "python",
   "nbconvert_exporter": "python",
   "pygments_lexer": "ipython3",
   "version": "3.11.10"
  }
 },
 "nbformat": 4,
 "nbformat_minor": 5
}
