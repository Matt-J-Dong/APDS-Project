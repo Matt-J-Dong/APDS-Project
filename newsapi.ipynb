{
 "cells": [
  {
   "metadata": {},
   "cell_type": "markdown",
   "source": "Documentation Link: https://newsapi.org/docs",
   "id": "a47e155dd7046dd7"
  },
  {
   "cell_type": "code",
   "id": "initial_id",
   "metadata": {
    "collapsed": true,
    "ExecuteTime": {
     "end_time": "2025-02-21T03:43:56.325865Z",
     "start_time": "2025-02-21T03:43:55.781615Z"
    }
   },
   "source": [
    "import requests\n",
    "\n",
    "API_KEY = '93f950e09bdf4c5fb8ec6aecd61ee6fb'\n",
    "BASE_URL = 'https://newsapi.org/v2'\n",
    "\n",
    "def get_stock_news(query, page_size=100):\n",
    "    \"\"\"\n",
    "    Fetch recent news articles matching a given query (e.g., 'AAPL' or 'Apple Inc').\n",
    "    \"\"\"\n",
    "    endpoint = f\"{BASE_URL}/everything\"\n",
    "    params = {\n",
    "        'q': query,\n",
    "        'apiKey': API_KEY,\n",
    "        'pageSize': page_size,\n",
    "        'sortBy': 'publishedAt',\n",
    "        'language': 'en'\n",
    "    }\n",
    "    response = requests.get(endpoint, params=params)\n",
    "    return response.json()\n",
    "\n",
    "news_response = get_stock_news(\"AAPL\")\n",
    "articles = news_response.get('articles', [])\n",
    "for article in articles:\n",
    "    print(article['title'], \"-\", article['source']['name'])\n"
   ],
   "outputs": [
    {
     "name": "stdout",
     "output_type": "stream",
     "text": [
      "RayCue、USB4に対応し最大データ転送速度が40GbpsとなるMac mini (2024)用ハブ「RayCue Mac mini Stand & Hub」にSD/microSDとCFexpress-Bカードリーダー搭載モデルを追加。 - Applech2.com\n",
      "Apple just unveiled a new version of its cheaper iPhone - Yahoo Entertainment\n",
      "Apple just unveiled a new version of its cheaper iPhone - Quartz India\n",
      "Apple debuts iPhone 16e for $599, includes Apple Intelligence, Apple's first in-house modem - Yahoo Entertainment\n",
      "Elon Musk's X could get its $44 billion valuation back - Quartz India\n",
      "iPhone SE 4 could be a huge moneymaker for Apple - Yahoo Entertainment\n",
      "Technology Stocks To Follow Today – February 17th - ETF Daily News\n",
      "Top Large Cap Stocks To Research – February 17th - ETF Daily News\n",
      "Michael S. Ryan Inc. Has $1.18 Million Stock Holdings in Apple Inc. (NASDAQ:AAPL) - ETF Daily News\n",
      "Apple Inc. (NASDAQ:AAPL) Shares Bought by First Hawaiian Bank - ETF Daily News\n",
      "Apple Inc. (NASDAQ:AAPL) Stake Lowered by Worth Asset Management LLC - ETF Daily News\n",
      "Collective Family Office LLC Sells 87 Shares of Apple Inc. (NASDAQ:AAPL) - ETF Daily News\n",
      "International Assets Investment Management LLC Has $118.06 Million Holdings in Apple Inc. (NASDAQ:AAPL) - ETF Daily News\n",
      "Peoples Bank KS Sells 203 Shares of Apple Inc. (NASDAQ:AAPL) - ETF Daily News\n",
      "Norway Savings Bank Sells 314 Shares of Apple Inc. (NASDAQ:AAPL) - ETF Daily News\n",
      "McAlister Sweet & Associates Inc. Buys 393 Shares of Apple Inc. (NASDAQ:AAPL) - ETF Daily News\n",
      "Hilltop Wealth Advisors LLC Has $1.45 Million Position in Apple Inc. (NASDAQ:AAPL) - ETF Daily News\n",
      "Apple Inc. (NASDAQ:AAPL) Shares Purchased by Range Financial Group LLC - ETF Daily News\n",
      "Park National Corp OH Has $125.76 Million Position in Apple Inc. (NASDAQ:AAPL) - ETF Daily News\n",
      "Music Stocks To Add to Your Watchlist – February 17th - ETF Daily News\n",
      "fmp-stable-api added to PyPI - Pypi.org\n",
      "Stock market today: S&P 500, Dow, Nasdaq futures stall with fresh tariffs, Fed minutes in focus - Yahoo Entertainment\n",
      "RackSolutions、Mac mini (2024)を2Uラックに最大10台収納できるラックマウント「2U HyperShelf for 10 Apple Mac Mini (M4, 2024)」などを発表。 - Applech2.com\n",
      "Purpose Investments Inc. Announces February 2025 Distributions - Financial Post\n",
      "Purpose Investments Inc. Announces February 2025 Distributions - GlobeNewswire\n",
      "Meta's stock closes down, snapping 20-session winning streak - Yahoo Entertainment\n",
      "Apple faces a new threat as Huawei takes its trifold phone to the world - Quartz India\n",
      "Apple might drop a new iPhone tomorrow. Here's what to know - Quartz India\n",
      "Google Leases First Washington, D.C., Storefront - Commercial Observer\n",
      "Meta's stock falls, putting 20-session streak at risk - Yahoo Entertainment\n",
      "PayPal stock is having a rough run. Blame Apple and Shopify - Quartz India\n",
      "Plugable、MSTに対応したWindows PCで最大4K60Hz出力のトリプルHDMIモニター環境を可能にするUSB-Cアダプタ「Plugable USB-C to HDMI マルチモニターアダプター」を発売。 - Applech2.com\n",
      "Is Apple Inc. (AAPL) the Most Profitable Tech Stock to Buy Now? - Yahoo Entertainment\n",
      "Is Apple Stock A Buy Before New Product Reveal? - Investor's Business Daily\n",
      "Tudor Financial Inc. Grows Stock Holdings in Apple Inc. (NASDAQ:AAPL) - ETF Daily News\n",
      "Birch Capital Management LLC Increases Stake in Apple Inc. (NASDAQ:AAPL) - ETF Daily News\n",
      "Insight Wealth Strategies LLC Decreases Position in Apple Inc. (NASDAQ:AAPL) - ETF Daily News\n",
      "Stonehearth Capital Management LLC Boosts Holdings in Apple Inc. (NASDAQ:AAPL) - ETF Daily News\n",
      "Bank of New Hampshire Sells 2,805 Shares of Apple Inc. (NASDAQ:AAPL) - ETF Daily News\n",
      "Advance Capital Management Inc. Has $8.49 Million Stake in Apple Inc. (NASDAQ:AAPL) - ETF Daily News\n",
      "ShankerValleau Wealth Advisors Inc. Boosts Position in Apple Inc. (NASDAQ:AAPL) - ETF Daily News\n",
      "Bard Financial Services Inc. Has $122.39 Million Stake in Apple Inc. (NASDAQ:AAPL) - ETF Daily News\n",
      "Magic Mouse (USB-C)を裏返さずに充電できる「Geekria Mouse Charging Station」が発売。 - Applech2.com\n",
      "O Connor Financial Group LLC Boosts Stock Position in Apple Inc. (NASDAQ:AAPL) - ETF Daily News\n",
      "Apple Inc. (NASDAQ:AAPL) Stake Decreased by Neville Rodie & Shaw Inc. - ETF Daily News\n",
      "Apple Inc. (NASDAQ:AAPL) is Boltwood Capital Management’s 8th Largest Position - ETF Daily News\n",
      "Retail Stocks To Keep An Eye On – February 16th - ETF Daily News\n",
      "Apple Inc. (NASDAQ:AAPL) Sees Large Decline in Short Interest - ETF Daily News\n",
      "Buy and hold these fantastic ASX ETFs for 20 years - Motley Fool Australia\n",
      "The Future of Tech PR: Navigating AI, Ethics and Digital Disruption - Observer\n",
      "Analysis-China's tech rally rests on 'hot money' - Yahoo Entertainment\n",
      "Walmart's top 10 Presidents' Day deals - Quartz India\n",
      "Amazon's top 10 Presidents' Day deals - Quartz India\n",
      "Apple (NASDAQ:AAPL) Stock Unloaded Sen. Tommy Tuberville - ETF Daily News\n",
      "Anker Japan、Qi2対応のマグネット式ワイヤレス充電器に加え、ワイヤレスイヤホンとApple Watch用ワイヤレス充電器を備えた「Anker MagGo Wireless Charging Station (3-in-1, Dock Stand)」を発売。 - Applech2.com\n",
      "Legacy Wealth Management LLC MS Sells 4,779 Shares of Apple Inc. (NASDAQ:AAPL) - ETF Daily News\n",
      "Syntax Research Inc. Sells 990 Shares of Apple Inc. (NASDAQ:AAPL) - ETF Daily News\n",
      "jvl associates llc Sells 4,147 Shares of Apple Inc. (NASDAQ:AAPL) - ETF Daily News\n",
      "Apple Inc. (NASDAQ:AAPL) Shares Sold by Cacti Asset Management LLC - ETF Daily News\n",
      "Independent Solutions Wealth Management LLC Has $15.19 Million Holdings in Apple Inc. (NASDAQ:AAPL) - ETF Daily News\n",
      "Versant Capital Management Inc Raises Stock Holdings in Apple Inc. (NASDAQ:AAPL) - ETF Daily News\n",
      "Apple Inc. (NASDAQ:AAPL) Shares Sold by B. Riley Wealth Advisors Inc. - ETF Daily News\n",
      "NRI Wealth Management LC Takes Position in Apple Inc. (NASDAQ:AAPL) - ETF Daily News\n",
      "SK Wealth Management LLC Takes Position in Apple Inc. (NASDAQ:AAPL) - ETF Daily News\n",
      "Apple Inc. (NASDAQ:AAPL) is General Partner Inc.’s 2nd Largest Position - ETF Daily News\n",
      "Apple (AAPL) Prepares to Launch AI Features in China with Baidu and Alibaba - Yahoo Entertainment\n",
      "Risks Digest 34.56 - Seclists.org\n",
      "3 excellent ASX ETFs to invest $20,000 into this week - Motley Fool Australia\n",
      "Spigen Japan、Mac mini (2024)と電源ケーブルをまとめて持ち運べるAirTagポケット付きポーチ「Mac mini M4/M4 Pro(2024年モデル)対応クラスデンポーチ」を発売。 - Applech2.com\n",
      "5 Warren Buffett Stocks To Buy And Hold In 2025 - Forbes\n",
      "Earnings, Fed Watching, And Warren Buffett’s Annual Letter Ahead - Forbes\n",
      "The Dow Jones Industrial Average (DJIA):A Comprehensive Guide - Typeforyou.org\n",
      "Apple Inc. (NASDAQ:AAPL) Shares Bought by Dantai Capital Ltd - ETF Daily News\n",
      "Decatur Capital Management Inc. Has $26.84 Million Holdings in Apple Inc. (NASDAQ:AAPL) - ETF Daily News\n",
      "Boulder Wealth Advisors LLC Raises Position in Apple Inc. (NASDAQ:AAPL) - ETF Daily News\n",
      "Cim Investment Management Inc. Reduces Holdings in Apple Inc. (NASDAQ:AAPL) - ETF Daily News\n",
      "Alternative Investment Advisors LLC. Has $1.36 Million Stock Holdings in Apple Inc. (NASDAQ:AAPL) - ETF Daily News\n",
      "Apple Inc. (NASDAQ:AAPL) Shares Sold by Garde Capital Inc. - ETF Daily News\n",
      "Apple Inc. (NASDAQ:AAPL) Shares Sold by Old North State Trust LLC - ETF Daily News\n",
      "Birmingham Capital Management Co. Inc. AL Has $5.70 Million Holdings in Apple Inc. (NASDAQ:AAPL) - ETF Daily News\n",
      "Apple Inc. (NASDAQ:AAPL) Position Trimmed by Brass Tax Wealth Management Inc. - ETF Daily News\n",
      "Synovus Financial Corp Has $212.91 Million Stock Holdings in Apple Inc. (NASDAQ:AAPL) - ETF Daily News\n",
      "Forthright Family Wealth Advisory LLC Has $2.60 Million Stock Holdings in Apple Inc. (NASDAQ:AAPL) - ETF Daily News\n",
      "Sen. Shelley Moore Capito Sells Apple Inc. (NASDAQ:AAPL) Shares - ETF Daily News\n",
      "Sign up, Deposit $100 & Hold for 30 Days, Receive 3 Free Shares / Deposit & Hold $2000 for 10 Free Shares @ Moomoo - Ozbargain.com.au\n",
      "Apple’s long-promised Apple Intelligence-infused Siri faces delays - Macdailynews.com\n",
      "Apple Inc. (AAPL): Among the Best Forever Stocks to Buy Right Now - Yahoo Entertainment\n",
      "Berkshire Hathaway’s Fourth Quarter 2024 Portfolio Moves - Forbes\n",
      "Buffett Holds Apple Shares In Sign Of Support - Biztoc.com\n",
      "Surprise: McDonald's Has Higher Profit Margins Than Tesla, Apple, or Netflix - Biztoc.com\n",
      "Westside Investment Management Inc. Sells 903 Shares of Apple Inc. (NASDAQ:AAPL) - ETF Daily News\n",
      "Wilmington Savings Fund Society FSB Has $254.22 Million Position in Apple Inc. (NASDAQ:AAPL) - ETF Daily News\n",
      "Old Port Advisors Has $10.01 Million Holdings in Apple Inc. (NASDAQ:AAPL) - ETF Daily News\n",
      "Advisory Resource Group Sells 668 Shares of Apple Inc. (NASDAQ:AAPL) - ETF Daily News\n",
      "Capstone Capital LLC Has $812,000 Stock Holdings in Apple Inc. (NASDAQ:AAPL) - ETF Daily News\n",
      "Optimist Retirement Group LLC Invests $1.29 Million in Apple Inc. (NASDAQ:AAPL) - ETF Daily News\n",
      "Citizens Business Bank Has $16.67 Million Stock Position in Apple Inc. (NASDAQ:AAPL) - ETF Daily News\n",
      "World Investment Advisors LLC Buys 152,262 Shares of Apple Inc. (NASDAQ:AAPL) - ETF Daily News\n",
      "8,641 Shares in Apple Inc. (NASDAQ:AAPL) Acquired by Discipline Wealth Solutions LLC - ETF Daily News\n",
      "Apple Inc. (NASDAQ:AAPL) is Chelsea Counsel Co.’s Largest Position - ETF Daily News\n"
     ]
    }
   ],
   "execution_count": 10
  },
  {
   "metadata": {
    "ExecuteTime": {
     "end_time": "2025-02-21T03:44:16.363678Z",
     "start_time": "2025-02-21T03:44:16.358677Z"
    }
   },
   "cell_type": "code",
   "source": "articles[3]",
   "id": "80a265911e38e7e5",
   "outputs": [
    {
     "data": {
      "text/plain": [
       "{'source': {'id': None, 'name': 'Yahoo Entertainment'},\n",
       " 'author': 'Daniel Howley',\n",
       " 'title': \"Apple debuts iPhone 16e for $599, includes Apple Intelligence, Apple's first in-house modem\",\n",
       " 'description': \"Apple on Tuesday the iPhone 16e, a low-cost iPhone complete with Apple Intelligence and the company's first in-house modem.\",\n",
       " 'url': 'https://finance.yahoo.com/news/apple-debuts-iphone-16e-for-599-includes-apple-intelligence-apples-first-in-house-modem-160159160.html',\n",
       " 'urlToImage': 'https://s.yimg.com/ny/api/res/1.2/YsVnC1vueeQEmgIBnEJXTA--/YXBwaWQ9aGlnaGxhbmRlcjt3PTEyMDA7aD05MjI-/https://s.yimg.com/os/creatr-uploaded-images/2025-02/12ff9b70-eed9-11ef-9bfa-dce133a5fa0f',\n",
       " 'publishedAt': '2025-02-19T16:01:59Z',\n",
       " 'content': \"Apple (AAPL) revealed its iPhone 16e on Tuesday, a budget-friendly iPhone that includes the company's Apple Intelligence platform and its first in-house-designed modem.\\r\\nThe iPhone 16e features a des… [+3836 chars]\"}"
      ]
     },
     "execution_count": 13,
     "metadata": {},
     "output_type": "execute_result"
    }
   ],
   "execution_count": 13
  },
  {
   "metadata": {},
   "cell_type": "code",
   "outputs": [],
   "execution_count": null,
   "source": "",
   "id": "1c43d9a5e3aadf07"
  }
 ],
 "metadata": {
  "kernelspec": {
   "display_name": "Python 3",
   "language": "python",
   "name": "python3"
  },
  "language_info": {
   "codemirror_mode": {
    "name": "ipython",
    "version": 2
   },
   "file_extension": ".py",
   "mimetype": "text/x-python",
   "name": "python",
   "nbconvert_exporter": "python",
   "pygments_lexer": "ipython2",
   "version": "2.7.6"
  }
 },
 "nbformat": 4,
 "nbformat_minor": 5
}
