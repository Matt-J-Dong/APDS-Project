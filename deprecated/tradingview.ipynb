{
 "cells": [
  {
   "cell_type": "code",
   "execution_count": 1,
   "metadata": {},
   "outputs": [
    {
     "name": "stdout",
     "output_type": "stream",
     "text": [
      "{'RECOMMENDATION': 'BUY', 'BUY': 14, 'SELL': 5, 'NEUTRAL': 7}\n"
     ]
    }
   ],
   "source": [
    "# pip install tradingview_ta\n",
    "\n",
    "from tradingview_ta import TA_Handler, Interval, Exchange\n",
    "\n",
    "# Initialize the TA_Handler with the desired parameters\n",
    "aapl_handler = TA_Handler(\n",
    "    symbol=\"AAPL\",\n",
    "    exchange=\"NASDAQ\",\n",
    "    screener=\"america\",  # This represents the region, e.g., 'america' for the U.S. markets\n",
    "    interval=Interval.INTERVAL_1_DAY  # Timeframe for the analysis\n",
    ")\n",
    "\n",
    "# Retrieve the analysis\n",
    "analysis = aapl_handler.get_analysis()\n",
    "\n",
    "# Print the summary of the analysis\n",
    "print(analysis.summary)"
   ]
  },
  {
   "cell_type": "markdown",
   "metadata": {},
   "source": [
    "### Fetching RSI (Example)"
   ]
  },
  {
   "cell_type": "code",
   "execution_count": 2,
   "metadata": {},
   "outputs": [
    {
     "name": "stdout",
     "output_type": "stream",
     "text": [
      "RSI: 61.16589178496817\n"
     ]
    }
   ],
   "source": [
    "# Get the RSI value\n",
    "rsi_value = analysis.indicators['RSI']\n",
    "print(f\"RSI: {rsi_value}\")"
   ]
  },
  {
   "cell_type": "markdown",
   "metadata": {},
   "source": [
    "### Fetching all available indicators for a given stock"
   ]
  },
  {
   "cell_type": "code",
   "execution_count": 3,
   "metadata": {},
   "outputs": [
    {
     "name": "stdout",
     "output_type": "stream",
     "text": [
      "Technical Indicators for AAPL:\n",
      "\n",
      "Recommend.Other: -0.2727272727272727\n",
      "Recommend.All: 0.26363636363636367\n",
      "Recommend.MA: 0.8\n",
      "RSI: 61.16589178496817\n",
      "RSI[1]: 61.640571033027044\n",
      "Stoch.K: 89.73921464765105\n",
      "Stoch.D: 89.3257182582807\n",
      "Stoch.K[1]: 94.40064855764581\n",
      "Stoch.D[1]: 94.42823106238991\n",
      "CCI20: 123.22024416963389\n",
      "CCI20[1]: 127.40639878950452\n",
      "ADX: 22.300286037076905\n",
      "ADX+DI: 32.075822309482945\n",
      "ADX-DI: 14.67591663910956\n",
      "ADX+DI[1]: 30.9505724843265\n",
      "ADX-DI[1]: 15.394938765293885\n",
      "AO: 9.383250294117744\n",
      "AO[1]: 7.6538285294118396\n",
      "Mom: 12.330000000000013\n",
      "Mom[1]: 13.360000000000014\n",
      "MACD.macd: 2.21510448319529\n",
      "MACD.signal: 0.30476716045943586\n",
      "Rec.Stoch.RSI: -1\n",
      "Stoch.RSI.K: 99.22928457271628\n",
      "Rec.WR: -1\n",
      "W.R: -13.65811222270546\n",
      "Rec.BBPower: 0\n",
      "BBPower: 14.078808278784521\n",
      "Rec.UO: 0\n",
      "UO: 66.8084511045862\n",
      "close: 245.55\n",
      "EMA5: 244.05154781317998\n",
      "SMA5: 245.064\n",
      "EMA10: 241.109943426858\n",
      "SMA10: 239.1620000000001\n",
      "EMA20: 238.48226841525585\n",
      "SMA20: 236.09849999999943\n",
      "EMA30: 237.91794290066292\n",
      "SMA30: 234.5146666666668\n",
      "EMA50: 237.4060410136314\n",
      "SMA50: 240.69019999999998\n",
      "EMA100: 233.90577087495615\n",
      "SMA100: 235.53930000000025\n",
      "EMA200: 223.81637200952724\n",
      "SMA200: 224.3854499999999\n",
      "Rec.Ichimoku: 0\n",
      "Ichimoku.BLine: 234.035\n",
      "Rec.VWMA: 1\n",
      "VWMA: 235.5970285408006\n",
      "Rec.HullMA9: -1\n",
      "HullMA9: 247.94174074074076\n",
      "Pivot.M.Classic.S3: 175.38666666666668\n",
      "Pivot.M.Classic.S2: 205.10666666666668\n",
      "Pivot.M.Classic.S1: 220.55333333333337\n",
      "Pivot.M.Classic.Middle: 234.82666666666668\n",
      "Pivot.M.Classic.R1: 250.27333333333337\n",
      "Pivot.M.Classic.R2: 264.5466666666667\n",
      "Pivot.M.Classic.R3: 294.26666666666665\n",
      "Pivot.M.Fibonacci.S3: 205.10666666666668\n",
      "Pivot.M.Fibonacci.S2: 216.45970666666668\n",
      "Pivot.M.Fibonacci.S1: 223.4736266666667\n",
      "Pivot.M.Fibonacci.Middle: 234.82666666666668\n",
      "Pivot.M.Fibonacci.R1: 246.17970666666668\n",
      "Pivot.M.Fibonacci.R2: 253.1936266666667\n",
      "Pivot.M.Fibonacci.R3: 264.5466666666667\n",
      "Pivot.M.Camarilla.S3: 227.827\n",
      "Pivot.M.Camarilla.S2: 230.55133333333333\n",
      "Pivot.M.Camarilla.S1: 233.27566666666667\n",
      "Pivot.M.Camarilla.Middle: 234.82666666666668\n",
      "Pivot.M.Camarilla.R1: 238.72433333333333\n",
      "Pivot.M.Camarilla.R2: 241.44866666666667\n",
      "Pivot.M.Camarilla.R3: 244.173\n",
      "Pivot.M.Woodie.S3: 185.41000000000003\n",
      "Pivot.M.Woodie.S2: 202.395\n",
      "Pivot.M.Woodie.S1: 215.13000000000002\n",
      "Pivot.M.Woodie.Middle: 232.115\n",
      "Pivot.M.Woodie.R1: 244.85000000000002\n",
      "Pivot.M.Woodie.R2: 261.83500000000004\n",
      "Pivot.M.Woodie.R3: 274.57000000000005\n",
      "Pivot.M.Demark.S1: 212.83\n",
      "Pivot.M.Demark.Middle: 230.965\n",
      "Pivot.M.Demark.R1: 242.55\n",
      "open: 245.95\n",
      "P.SAR: 229.73779398399995\n",
      "BB.lower: 222.5322222864459\n",
      "BB.upper: 249.66477771355298\n",
      "AO[2]: 5.117005000000091\n",
      "volume: 53197431\n",
      "change: -0.11389984948948506\n",
      "low: 245.22\n",
      "high: 248.69\n"
     ]
    }
   ],
   "source": [
    "from tradingview_ta import TA_Handler, Interval\n",
    "\n",
    "# Define stock parameters\n",
    "symbol = \"AAPL\"\n",
    "exchange = \"NASDAQ\"\n",
    "\n",
    "# Initialize the TA Handler\n",
    "stock_handler = TA_Handler(\n",
    "    symbol=symbol,\n",
    "    exchange=exchange,\n",
    "    screener=\"america\",\n",
    "    interval=Interval.INTERVAL_1_DAY\n",
    ")\n",
    "\n",
    "# Retrieve technical analysis data\n",
    "analysis = stock_handler.get_analysis()\n",
    "\n",
    "# Retrieve all available indicators\n",
    "all_indicators = analysis.indicators\n",
    "\n",
    "# Print all indicators with their values\n",
    "print(f\"Technical Indicators for {symbol}:\\n\")\n",
    "for indicator, value in all_indicators.items():\n",
    "    print(f\"{indicator}: {value}\")"
   ]
  },
  {
   "cell_type": "markdown",
   "metadata": {},
   "source": [
    "## Documentations:\n",
    " - https://python-tradingview-ta.readthedocs.io/en/latest/ \n",
    " - https://pypi.org/project/tradingview-ta/ "
   ]
  },
  {
   "cell_type": "markdown",
   "metadata": {},
   "source": [
    "### Basic Information:\n",
    "- The tradingview_ta library is an unofficial Python wrapper that retrieves technical analysis data from TradingView.\n",
    "- Usage limits: To minimize the risk of being blocked, space out your requests and avoid making too many in a short period."
   ]
  },
  {
   "cell_type": "markdown",
   "metadata": {},
   "source": []
  }
 ],
 "metadata": {
  "kernelspec": {
   "display_name": "advpy",
   "language": "python",
   "name": "python3"
  },
  "language_info": {
   "codemirror_mode": {
    "name": "ipython",
    "version": 3
   },
   "file_extension": ".py",
   "mimetype": "text/x-python",
   "name": "python",
   "nbconvert_exporter": "python",
   "pygments_lexer": "ipython3",
   "version": "3.8.20"
  }
 },
 "nbformat": 4,
 "nbformat_minor": 2
}
